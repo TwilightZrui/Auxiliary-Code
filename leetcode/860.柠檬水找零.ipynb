{
 "cells": [
  {
   "cell_type": "markdown",
   "metadata": {},
   "source": [
    "#### 目录\n",
    "* 原题描述  860.柠檬水找零\n",
    "* 第一遍解法 \n",
    "* 网上解法\n",
    "* 优化自己的代码\n",
    "* 第二遍解法 \n",
    "\n",
    "#### 1. 问题描述\n",
    "\n",
    "在柠檬水摊上，每一杯柠檬水的售价为 5 美元。\n",
    "\n",
    "顾客排队购买你的产品，（按账单 bills 支付的顺序）一次购买一杯。\n",
    "\n",
    "每位顾客只买一杯柠檬水，然后向你付 5 美元、10 美元或 20 美元。你必须给每个顾客正确找零，也就是说净交易是每位顾客向你支付 5 美元。\n",
    "\n",
    "注意，一开始你手头没有任何零钱。\n",
    "\n",
    "如果你能给每位顾客正确找零，返回 true ，否则返回 false 。\n",
    "\n",
    "* 示例 1：\n",
    "\n",
    ">输入：[5,5,5,10,20]    \n",
    "输出：true   \n",
    "解释：  \n",
    "前 3 位顾客那里，我们按顺序收取 3 张 5 美元的钞票。   \n",
    "第 4 位顾客那里，我们收取一张 10 美元的钞票，并返还 5 美元。   \n",
    "第 5 位顾客那里，我们找还一张 10 美元的钞票和一张 5 美元的钞票。   \n",
    "由于所有客户都得到了正确的找零，所以我们输出 true。\n",
    "\n",
    "* 示例 2：\n",
    "\n",
    ">输入：[5,5,10]  \n",
    "输出：true  \n",
    "示例 3：\n",
    "\n",
    ">输入：[10,10]   \n",
    "输出：false   \n",
    "\n",
    "\n",
    "* 示例 4：\n",
    "\n",
    ">输入：[5,5,10,10,20]  \n",
    "输出：false   \n",
    "解释：   \n",
    "前 2 位顾客那里，我们按顺序收取 2 张 5 美元的钞票。   \n",
    "对于接下来的 2 位顾客，我们收取一张 10 美元的钞票，然后返还 5 美元。   \n",
    "对于最后一位顾客，我们无法退回 15 美元，因为我们现在只有两张 10 美元的钞票。    由于不是每位顾客都得到了正确的找零，所以答案是 false。\n",
    "\n",
    "\n",
    "#### 2、我的第一次解法 12.13\n",
    "\n",
    "**2.1 思路**\n",
    "\n",
    "* 分为三个list，一个5美元的list_5,一个10美元的list_10，剩下bills[]包含20美元\n",
    "\n",
    "* 有一个5美分，list_5 +=1 有一个10美分，list_10 +=1，list_5 -= 1,前两个数组bill数值相加 能大于等于 20美元的数量 *15\n",
    "\n",
    "* 思路错误 没有考虑到要按顺序找钱\n",
    "**2.2 代码尝试**"
   ]
  },
  {
   "cell_type": "code",
   "execution_count": 10,
   "metadata": {},
   "outputs": [
    {
     "name": "stdout",
     "output_type": "stream",
     "text": [
      "0\n"
     ]
    }
   ],
   "source": [
    "# 写了一个巨烂的循环 也超时了 \n",
    "class Solution:\n",
    "    def lemonadeChange(self, bills: List[int]) -> bool:\n",
    "        bill5=bill10=bill20=0\n",
    "        for bill in bills:\n",
    "            if bill ==5:\n",
    "                bill5 +=1 \n",
    "                print(bill5)  \n",
    "            elif bill ==10:\n",
    "                bill5 -=1\n",
    "                bill10 +=1\n",
    "                print(bill5,bill10)\n",
    "            elif bill == 20:\n",
    "                if bill10 > 0:\n",
    "                    bill10-=1\n",
    "                    bill5-=1\n",
    "                else:\n",
    "                    bill5-=3\n",
    "           # print(bill5,bill10,bill20)\n",
    "            if bill5<0 or bill10<0 or bill20<0:\n",
    "                return(0)\n",
    "                break\n",
    "        if bill5>=0 and bill10>=0 and bill20>=0:\n",
    "            print(1)\n",
    "            return(1)\n",
    "## 一旦出现钱的个数负值，循环就结束，"
   ]
  },
  {
   "cell_type": "markdown",
   "metadata": {},
   "source": [
    "**2.3 正确代码解析**\n",
    "* 解法一"
   ]
  },
  {
   "cell_type": "markdown",
   "metadata": {},
   "source": [
    "* 结果也是写了一个循环 只不过比我的循环优美很多\n",
    "\n",
    "**代码思路**\n",
    "\n",
    "如果顾客支付了 5 美元钞票，那么我们就得到 5 美元的钞票。\n",
    "\n",
    "如果顾客支付了 10 美元钞票，我们必须找回一张 5 美元钞票。如果我们没有 5 美元的钞票，答案就是 false，因为我们无法正确找零。\n",
    "\n",
    "如果顾客支付了 20 美元钞票，我们必须找回 15 美元。\n",
    "\n",
    "如果我们有一张 10 美元和一张 5 美元，那么我们总会更愿意这样找零，这比用三张 5 美元进行找零更有利。\n",
    "\n",
    "否则，如果我们有三张 5 美元的钞票，那么我们将这样找零。\n",
    "\n",
    "否则，我们将无法给出总面值为 15 美元的零钱，答案是 false。\n"
   ]
  },
  {
   "cell_type": "code",
   "execution_count": null,
   "metadata": {},
   "outputs": [],
   "source": [
    "class Solution(object): #aw\n",
    "    def lemonadeChange(self, bills):\n",
    "        five = ten = 0\n",
    "        for bill in bills:\n",
    "            if bill == 5:\n",
    "                five += 1\n",
    "            elif bill == 10:\n",
    "                if not five: return False\n",
    "                five -= 1\n",
    "                ten += 1\n",
    "            else:\n",
    "                if ten and five:\n",
    "                    ten -= 1\n",
    "                    five -= 1\n",
    "                elif five >= 3:\n",
    "                    five -= 3\n",
    "                else:\n",
    "                    return False\n",
    "        return True"
   ]
  },
  {
   "cell_type": "markdown",
   "metadata": {},
   "source": [
    "* 解法二\n",
    "\n",
    "**2.4 我的代码改进**\n",
    "#### 3、相关知识讲解"
   ]
  }
 ],
 "metadata": {
  "kernelspec": {
   "display_name": "py3",
   "language": "python",
   "name": "python36"
  },
  "language_info": {
   "codemirror_mode": {
    "name": "ipython",
    "version": 3
   },
   "file_extension": ".py",
   "mimetype": "text/x-python",
   "name": "python",
   "nbconvert_exporter": "python",
   "pygments_lexer": "ipython3",
   "version": "3.6.9"
  }
 },
 "nbformat": 4,
 "nbformat_minor": 2
}
