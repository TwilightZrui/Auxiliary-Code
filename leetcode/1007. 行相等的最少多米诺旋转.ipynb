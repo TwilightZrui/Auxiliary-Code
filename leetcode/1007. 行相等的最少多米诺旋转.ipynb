{
 "cells": [
  {
   "cell_type": "markdown",
   "metadata": {},
   "source": [
    "#### 目录\n",
    "* 原题描述  1007. 行相等的最少多米诺旋转\n",
    "* 第一遍解法 \n",
    "* 网上解法\n",
    "* 优化自己的代码\n",
    "* 第二遍解法 \n",
    "\n",
    "#### 1. 问题描述\n",
    "\n",
    "在一排多米诺骨牌中，A[i] 和 B[i] 分别代表第 i 个多米诺骨牌的上半部分和下半部分。（一个多米诺是两个从 1 到 6 的数字同列平铺形成的 —— 该平铺的每一半上都有一个数字。）\n",
    "\n",
    "我们可以旋转第 i 张多米诺，使得 A[i] 和 B[i] 的值交换。\n",
    "\n",
    "返回能使 A 中所有值或者 B 中所有值都相同的最小旋转次数。\n",
    "\n",
    "如果无法做到，返回 -1.\n",
    "\n",
    " \n",
    "\n",
    "* 示例 1：\n",
    "\n",
    ">输入：A = [2,1,2,4,2,2], B = [5,2,6,2,3,2]  \n",
    "输出：2  \n",
    "解释：  \n",
    "图一表示：在我们旋转之前， A 和 B 给出的多米诺牌。 \n",
    "如果我们旋转第二个和第四个多米诺骨牌，我们可以使上面一行中的每个值都等于 2\n",
    "\n",
    "* 示例 2：\n",
    "\n",
    ">输入：A = [3,5,1,2,3], B = [3,6,3,3,4] \n",
    "输出：-1 \n",
    "解释： \n",
    "在这种情况下，不可能旋转多米诺牌使一行的值相等。\n",
    "\n",
    "\n",
    "#### 2、我的第一次解法 12.26\n",
    "\n",
    "**2.1 思路**\n",
    "\n",
    "分析题目 题目就是A 中异值对应位置在B中是否有相同的值,\n",
    "\n",
    "不需要比较两次，直接把B旋转到A，返回 min(len-旋转*\n",
    "\n",
    "**思路**\n",
    "\n",
    "* 1、遍历A的数字，取和后面数字的异或 和B[i+1]的数字比较\n",
    "* 2、如果和A[i+1]有相同的，继续循环  \n",
    "     如果和A[i+1]不相同，和B[i+1]相同，旋转次数+1      \n",
    "     如果和A[i+1]不同，B[i+1]不同，则下一个数;\n",
    "* 有个问题是，不管从哪个数字出发，都应该遍历一次\n",
    "\n",
    "\n",
    "**2.2 代码尝试**\n"
   ]
  },
  {
   "cell_type": "code",
   "execution_count": null,
   "metadata": {},
   "outputs": [],
   "source": [
    "class Solution:\n",
    "    def minDominoRotations(self, A: List[int], B: List[int]) -> int:\n",
    "        nums=[]\n",
    "        tmp=0\n",
    "        for a in A:\n",
    "            #print('a',a)\n",
    "            num = 0\n",
    "            for i in range(len(A)):\n",
    "                #print('i',i)\n",
    "                if a==A[i]:\n",
    "                    #print(\"=A\")\n",
    "                    tmp +=1\n",
    "                    continue\n",
    "                elif a!=A[i] and a==B[i]:\n",
    "                    #print(\"!=A,=B\")\n",
    "                    tmp=0\n",
    "                    num +=1\n",
    "                elif a!=A[i] and a!=B[i]:\n",
    "                    tmp = 0\n",
    "                    num = 0\n",
    "                    break\n",
    "            if tmp==len(A):\n",
    "                return(0)\n",
    "            else:\n",
    "                tmp=0\n",
    "            #print('num',num)\n",
    "            nums.append(num)       \n",
    "        while 0 in nums:\n",
    "            nums.remove(0)\n",
    "        return(min(len(A)-min(nums),min(nums)) if len(nums)>0 else -1)\n",
    "        \n",
    "## 测试用例 不通过A[1,2,1,1,1,2,2,2]\n",
    "##             B[2,1,2,2,2,2,2,2]\n",
    "##只考虑了A中的数据，没有考虑B中的数据\n",
    "\n",
    "## 不需要 遍历A中所有的元素，\n",
    "# 如果可以翻转成功，A[0]B[0]其中一个就会是可翻转的那个元素"
   ]
  },
  {
   "cell_type": "markdown",
   "metadata": {},
   "source": [
    "**2.3 正确代码解析**\n",
    "\n",
    "\n",
    "* 解法一\n",
    "\n",
    "```python\n",
    "\n",
    "class Solution:        \n",
    "    def minDominoRotations(self, A: List[int], B: List[int]) -> int:\n",
    "        \n",
    "        ## 先检查 AB中是否有x元素\n",
    "        def check(x):  \n",
    "            rotations_a = rotations_b = 0\n",
    "            for i in range(n):\n",
    "                # 不能翻转\n",
    "                if A[i] != x and B[i] != x:\n",
    "                    return -1\n",
    "                elif A[i] != x: #A[i] != x and B[i] == x 翻转到A\n",
    "                    rotations_a += 1                \n",
    "                elif B[i] != x:#A[i] == x and B[i] != x 翻转到B\n",
    "                    rotations_b += 1\n",
    "            # min number of rotations to have all\n",
    "            # elements equal to x in A or B\n",
    "            return min(rotations_a, rotations_b) ##返回最小的翻转次数\n",
    "    \n",
    "        n = len(A)\n",
    "        rotations = check(A[0]) \n",
    "        # If one could make all elements in A or B equal to A[0]\n",
    "        if rotations != -1 or A[0] == B[0]:\n",
    "            return rotations \n",
    "        # If one could make all elements in A or B equal to B[0]\n",
    "        else:\n",
    "            return check(B[0])\n",
    "\n",
    "```\n",
    "\n",
    "* 解法二\n"
   ]
  },
  {
   "cell_type": "markdown",
   "metadata": {},
   "source": [
    "**2.4 我的代码改进**"
   ]
  },
  {
   "cell_type": "markdown",
   "metadata": {},
   "source": [
    "#### 3、相关知识讲解"
   ]
  },
  {
   "cell_type": "code",
   "execution_count": 1,
   "metadata": {},
   "outputs": [],
   "source": [
    "a =[0,0,0,3,5,5]\n",
    "a.remove(0)"
   ]
  },
  {
   "cell_type": "code",
   "execution_count": 7,
   "metadata": {},
   "outputs": [
    {
     "data": {
      "text/plain": [
       "3"
      ]
     },
     "execution_count": 7,
     "metadata": {},
     "output_type": "execute_result"
    }
   ],
   "source": [
    "2^1"
   ]
  },
  {
   "cell_type": "code",
   "execution_count": null,
   "metadata": {},
   "outputs": [],
   "source": []
  }
 ],
 "metadata": {
  "kernelspec": {
   "display_name": "py3",
   "language": "python",
   "name": "python36"
  },
  "language_info": {
   "codemirror_mode": {
    "name": "ipython",
    "version": 3
   },
   "file_extension": ".py",
   "mimetype": "text/x-python",
   "name": "python",
   "nbconvert_exporter": "python",
   "pygments_lexer": "ipython3",
   "version": "3.6.9"
  }
 },
 "nbformat": 4,
 "nbformat_minor": 2
}
