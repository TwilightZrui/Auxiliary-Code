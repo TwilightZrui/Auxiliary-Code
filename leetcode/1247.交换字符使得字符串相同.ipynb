{
 "cells": [
  {
   "cell_type": "markdown",
   "metadata": {},
   "source": [
    "#### 目录\n",
    "* 原题描述  1247.交换字符使得字符串相同 \n",
    "* 第一遍解法 \n",
    "* 网上解法\n",
    "* 优化自己的代码\n",
    "* 第二遍解法 \n",
    "\n",
    "#### 1. 问题描述\n",
    "\n",
    "有两个长度相同的字符串 s1 和 s2，且它们其中 只含有 字符 \"x\" 和 \"y\"，你需要通过「交换字符」的方式使这两个字符串相同。\n",
    "\n",
    "每次「交换字符」的时候，你都可以在两个字符串中各选一个字符进行交换。\n",
    "\n",
    "交换只能发生在两个不同的字符串之间，绝对不能发生在同一个字符串内部。也就是说，我们可以交换 s1[i] 和 s2[j]，但不能交换 s1[i] 和 s1[j]。\n",
    "\n",
    "最后，请你返回使 s1 和 s2 相同的最小交换次数，如果没有方法能够使得这两个字符串相同，则返回 -1 。\n",
    "\n",
    "* 示例 1：\n",
    "\n",
    ">输入：s1 = \"xx\", s2 = \"yy\"   \n",
    "输出：1   \n",
    "解释：   \n",
    "交换 s1[0] 和 s2[1]，得到 s1 = \"yx\"，s2 = \"yx\"。   \n",
    "\n",
    "\n",
    "* 示例 2：\n",
    "\n",
    ">输入：s1 = \"xy\", s2 = \"yx\"  \n",
    "输出：2  \n",
    "解释：  \n",
    "交换 s1[0] 和 s2[0]，得到 s1 = \"yy\"，s2 = \"xx\" 。  \n",
    "交换 s1[0] 和 s2[1]，得到 s1 = \"xy\"，s2 = \"xy\" 。  \n",
    "注意，你不能交换 s1[0] 和 s1[1] 使得 s1 变成 \"yx\"，因为我们只能交换属于两个不同字符串的字符。\n",
    "\n",
    "\n",
    "* 示例 3：\n",
    "\n",
    ">输入：s1 = \"xx\", s2 = \"xy\"  \n",
    "输出：-1\n",
    "\n",
    "\n",
    "* 示例 4：\n",
    "\n",
    "> 输入：s1 = \"xxyyxyxyxx\", s2 = \"xyyxyxxxyx\"  \n",
    "输出：4\n",
    "\n",
    "\n",
    "#### 2、我的第一次解法 12.20\n",
    "\n",
    "**2.1 思路**\n",
    "\n",
    "* 首先判断两个字符串能否相互转换\n",
    "* 若能相互转化，去掉相同的位置，留下相同的位置\n",
    "* xy-yx 转化为相同的yx-yx需要2次调换\n",
    "* 判断剩下有几个xy？\n",
    "\n",
    "**2.2 代码尝试**"
   ]
  },
  {
   "cell_type": "code",
   "execution_count": null,
   "metadata": {},
   "outputs": [],
   "source": [
    "class Solution:\n",
    "    def minimumSwap(self, s1: str, s2: str) -> int:\n",
    "        if (s1.count('x') + s2.count('x')) %2 == 1:\n",
    "            return(-1)\n",
    "        for i in range(len(s1)):\n",
    "            if s1[i] == s2[i]:\n",
    "                s1.pop(i)\n",
    "            print(s1)\n",
    "        return(s1.count('x')-1)\n",
    "    #return(s1.count('xy'))\n",
    "    \n",
    "##解答错误，只考虑一种了一种情况，实际上就是计数xy，xx，xx交换1次，xy交换两次"
   ]
  },
  {
   "cell_type": "markdown",
   "metadata": {},
   "source": [
    "\n",
    "**2.3 正确代码解析**\n",
    "* 解法一\n",
    "\n",
    "\n",
    "只有计算不同的x和y各占多少即可，每两个x可以互相抵消，但是只剩一个x的时候需要2次才能消除。\n",
    "\n",
    "```python\n",
    "\n",
    "class Solution:\n",
    "    def minimumSwap(self, s1: str, s2: str) -> int:\n",
    "        if len(s1) != len(s2) or (s1.count('x')+s2.count('x'))%2:\n",
    "            return -1\n",
    "        stack_s1 = []\n",
    "        for i in range(len(s1)):\n",
    "            if s1[i]!=s2[i]:\n",
    "                stack_s1.append(s1[i])\n",
    "        x_num = stack_s1.count('x')\n",
    "        y_num = stack_s1.count('y')\n",
    "        result = x_num//2+y_num//2+x_num%2+y_num%2   ##//取整除；%取余\n",
    "        return result\n",
    "```\n",
    "\n",
    "* 解法二\n",
    "\n",
    "思路都是一样的，解法二更加简便\n",
    "\n",
    "```python\n",
    "\n",
    "class Solution:\n",
    "    def minimumSwap(self, s1: str, s2: str) -> int:\n",
    "        d = collections.Counter(i for i, j in zip(s1, s2) if i != j) ###取两字符不相同的部分，计数\n",
    "        if (d['x'] + d['y']) & 1 or len(s1) != len(s2):\n",
    "            return -1\n",
    "        return sum(divmod(d['x'], 2) + divmod(d['y'], 2))\n",
    "    ## divmod 返回商和余数的值(a // b, a % b)\n",
    "    ##divmod(7, 2)   ->(3, 1)\n",
    "\n",
    "```\n",
    "\n",
    "**2.4 我的代码改进**\n"
   ]
  },
  {
   "cell_type": "markdown",
   "metadata": {},
   "source": [
    "#### 3、相关知识讲解\n",
    "\n",
    "##### 3.1 collections.Counter()\n",
    "列表计数函数，返回字典"
   ]
  },
  {
   "cell_type": "code",
   "execution_count": 2,
   "metadata": {},
   "outputs": [
    {
     "name": "stdout",
     "output_type": "stream",
     "text": [
      "Counter({1: 3, 2: 2, 3: 1})\n"
     ]
    }
   ],
   "source": [
    "from collections import Counter\n",
    "a = [1, 2, 3, 1, 1, 2]\n",
    "result = Counter(a)\n",
    "print(result)"
   ]
  },
  {
   "cell_type": "markdown",
   "metadata": {},
   "source": [
    "* 其他计数方式"
   ]
  },
  {
   "cell_type": "code",
   "execution_count": 5,
   "metadata": {},
   "outputs": [
    {
     "data": {
      "text/plain": [
       "3"
      ]
     },
     "execution_count": 5,
     "metadata": {},
     "output_type": "execute_result"
    }
   ],
   "source": [
    "a.count(1)"
   ]
  },
  {
   "cell_type": "markdown",
   "metadata": {},
   "source": [
    "##### 3.2 for i, j in zip(s1, s2)\n",
    "\n",
    "* zip() 将两个可迭代对象打包为元组\n",
    "a = [1,2,3]\n",
    "b = [4,5,6]\n",
    "zipped = zip(a,b)\n",
    "\n",
    ">> [[1,4],[2,5],[3,6]]"
   ]
  },
  {
   "cell_type": "code",
   "execution_count": 15,
   "metadata": {},
   "outputs": [
    {
     "name": "stdout",
     "output_type": "stream",
     "text": [
      "[(1, 4), (2, 5), (3, 6)]\n",
      "1 4\n",
      "2 5\n",
      "3 6\n"
     ]
    }
   ],
   "source": [
    "a = [1,2,3]\n",
    "b = [4,5,6]\n",
    "z=list(zip(a,b))\n",
    "print(z)\n",
    "for i,j in zip(a,b):\n",
    "       print(i,j)"
   ]
  },
  {
   "cell_type": "markdown",
   "metadata": {},
   "source": [
    "* zip(*) 将打包的元组拆开\n",
    "a = [1,2,3]\n",
    "b = [4,5,6]\n",
    "z= list(zip(a,b))\n",
    "a1, b1 = zip(*z)\n",
    "\n",
    ">> a1=[1,2,3]\n",
    ">> a2=[4,5,6]"
   ]
  },
  {
   "cell_type": "code",
   "execution_count": 16,
   "metadata": {},
   "outputs": [
    {
     "name": "stdout",
     "output_type": "stream",
     "text": [
      "(1, 2, 3)\n",
      "(4, 5, 6)\n"
     ]
    }
   ],
   "source": [
    "a = [1,2,3]\n",
    "b = [4,5,6]\n",
    "z= list(zip(a,b))\n",
    "a1, b1 = zip(*z)\n",
    "print(a1)\n",
    "print(b1)"
   ]
  },
  {
   "cell_type": "code",
   "execution_count": null,
   "metadata": {},
   "outputs": [],
   "source": []
  }
 ],
 "metadata": {
  "kernelspec": {
   "display_name": "py3",
   "language": "python",
   "name": "python36"
  },
  "language_info": {
   "codemirror_mode": {
    "name": "ipython",
    "version": 3
   },
   "file_extension": ".py",
   "mimetype": "text/x-python",
   "name": "python",
   "nbconvert_exporter": "python",
   "pygments_lexer": "ipython3",
   "version": "3.6.9"
  }
 },
 "nbformat": 4,
 "nbformat_minor": 2
}
