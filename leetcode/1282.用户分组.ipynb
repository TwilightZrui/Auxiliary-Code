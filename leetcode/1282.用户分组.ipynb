{
 "cells": [
  {
   "cell_type": "markdown",
   "metadata": {},
   "source": [
    "#### 目录\n",
    "* 原题描述 1282.用户分组\n",
    "* 第一遍解法 \n",
    "* 网上解法\n",
    "* 优化自己的代码\n",
    "* 第二遍解法 \n",
    "\n",
    "#### 1. 问题描述\n",
    "\n",
    "有 n 位用户参加活动，他们的 ID 从 0 到 n - 1，每位用户都 恰好 属于某一用户组。给你一个长度为 n 的数组 groupSizes，其中包含每位用户所处的用户组的大小，请你返回用户分组情况（存在的用户组以及每个组中用户的 ID）。\n",
    "\n",
    "你可以任何顺序返回解决方案，ID 的顺序也不受限制。此外，题目给出的数据保证至少存在一种解决方案。\n",
    "\n",
    "\n",
    "* 示例 1：\n",
    "\n",
    "> 输入：groupSizes = [3,3,3,3,3,1,3]  \n",
    "输出：[[5],[0,1,2],[3,4,6]]   \n",
    "解释：    \n",
    "其他可能的解决方案有 [[2,1,6],[5],[0,4,3]] 和 [[5],[0,6,2],[4,3,1]]。\n",
    "\n",
    "* 示例 2：   \n",
    ">输入：groupSizes = [2,1,3,3,3,2]    \n",
    "输出：[[1],[0,5],[2,3,4]]\n",
    "\n",
    "\n",
    "#### 2、我的第一次解法 12.10\n",
    "\n",
    "**2.1 思路**\n",
    "\n",
    "* 简答粗暴的方法 遍历每一个数字\n",
    "* 数字的大小，为插入列表的长度，插入列表的数字为该元素的位置\n",
    "**2.2 代码尝试**"
   ]
  },
  {
   "cell_type": "code",
   "execution_count": null,
   "metadata": {},
   "outputs": [],
   "source": [
    "class Solution:\n",
    "    def groupThePeople(self, groupSizes: List[int]) -> List[List[int]]:\n",
    "        result = []\n",
    "        tmp = []\n",
    "        for i in range(len(groupSizes)):\n",
    "            if groupSizes[i]==1:\n",
    "                result.append([i])\n",
    "            \n",
    "        print(result)"
   ]
  },
  {
   "cell_type": "markdown",
   "metadata": {},
   "source": [
    "**2.3 正确代码解析**\n",
    "* 解法一\n",
    "\n",
    "``` python\n",
    "\n",
    "# 第一步 粗分类 如果groupSize[x] != groupSize[y]，那个这两个用户绝对不在同一个用户组中，用哈希映射存储用户，\n",
    "\n",
    "#哈希映射中的键值对为（gsize，users）其中gsize表示用户组大小，users表示用户组大小为gsize，即groupSize[x] == gsize 的所有用户\n",
    "\n",
    "# 第二步 细分类 对(gsize, users)中的users进行细分组，每次从users取出gsize个用户放在一个组里\n",
    "\n",
    "class Solution:\n",
    "    def groupThePeople(self, groupSizes: List[int]) -> List[List[int]]:\n",
    "        groups = collections.defaultdict(list)\n",
    "        for i, _id in enumerate(groupSizes):\n",
    "            groups[_id].append(i)  ## 数大小相同的放在一起，i是数的位置\n",
    "        \n",
    "        ans = list()\n",
    "        for gsize, users in groups.items():\n",
    "            for it in range(0, len(users), gsize):#（0到len(users),步长gsize） \n",
    "                ans.append(users[it : it + gsize])#将用户按照gsize分组\n",
    "        return ans\n",
    "\n",
    "```\n",
    "\n",
    "* 解法二\n",
    "\n",
    "**2.4 我的代码改进**\n"
   ]
  },
  {
   "cell_type": "code",
   "execution_count": 3,
   "metadata": {},
   "outputs": [
    {
     "name": "stdout",
     "output_type": "stream",
     "text": [
      "defaultdict(<class 'list'>, {3: [0, 1, 2, 3, 4, 6], 1: [5]})\n"
     ]
    }
   ],
   "source": [
    "import collections\n",
    "from collections import defaultdict\n",
    "groupSizes = [3,3,3,3,3,1,3]\n",
    "#group.index(3)\n",
    "groups = collections.defaultdict(list)\n",
    "for i, _id in enumerate(groupSizes):\n",
    "    groups[_id].append(i)\n",
    "    \n",
    "print(groups)"
   ]
  },
  {
   "cell_type": "markdown",
   "metadata": {},
   "source": [
    "#### 3、相关知识讲解\n",
    "##### 3.1 enumerate() 函数\n",
    "\n",
    "将可遍历的数据对象（列表、元组或字符串）组合为一个索引序列，同时列出数据和数据下标\n",
    "\n",
    "常用于for 循环\n",
    "\n",
    "for k，v in enumerate（序列）"
   ]
  },
  {
   "cell_type": "code",
   "execution_count": null,
   "metadata": {},
   "outputs": [],
   "source": [
    "seasons = ['Spring', 'Summer', 'Fall', 'Winter']\n",
    "list(enumerate(seasons))"
   ]
  },
  {
   "cell_type": "code",
   "execution_count": null,
   "metadata": {},
   "outputs": [],
   "source": [
    "for k,v in enumerate(seasons):\n",
    "    print(k,v)"
   ]
  }
 ],
 "metadata": {
  "kernelspec": {
   "display_name": "py3",
   "language": "python",
   "name": "python36"
  },
  "language_info": {
   "codemirror_mode": {
    "name": "ipython",
    "version": 3
   },
   "file_extension": ".py",
   "mimetype": "text/x-python",
   "name": "python",
   "nbconvert_exporter": "python",
   "pygments_lexer": "ipython3",
   "version": "3.6.9"
  }
 },
 "nbformat": 4,
 "nbformat_minor": 2
}
