{
 "cells": [
  {
   "attachments": {
    "image.png": {
     "image/png": "[encoded data removed]"
    }
   },
   "cell_type": "markdown",
   "metadata": {},
   "source": [
    "#### 目录\n",
    "* 原题描述 1.两数之和\n",
    "* 第一遍解法 12/08\n",
    "* 网上解法\n",
    "* 优化自己的代码\n",
    "* 第二遍解法 \n",
    "\n",
    "#### 1. 问题描述\n",
    "\n",
    "**题目分类：** 数组，贪心算法？\n",
    "\n",
    "给定由 N 个小写字母字符串组成的数组 A，其中每个字符串长度相等。\n",
    "\n",
    "删除 操作的定义是：选出一组要删掉的列，删去 A 中对应列中的所有字符，形式上，第 n 列为 [A[0][n], A[1][n], ..., A[A.length-1][n]]）。\n",
    "\n",
    "比如，有 A = [\"abcdef\", \"uvwxyz\"]，\n",
    "\n",
    "![image.png](attachment:image.png)\n",
    "\n",
    "要删掉的列为 {0, 2, 3}，删除后 A 为[\"bef\", \"vyz\"]， A 的列分别为[\"b\",\"v\"], [\"e\",\"y\"], [\"f\",\"z\"]。\n",
    "\n",
    "![image.png](attachment:image.png)\n",
    "\n",
    "你需要选出一组要删掉的列 D，对 A 执行删除操作，使 A 中剩余的每一列都是 非降序 排列的，然后请你返回 D.length 的最小可能值。\n",
    "\n",
    " \n",
    "\n",
    "示例 1：\n",
    "\n",
    ">输入：[\"cba\", \"daf\", \"ghi\"]  \n",
    "输出：1    \n",
    "解释：  \n",
    "当选择 D = {1}，删除后 A 的列为：[\"c\",\"d\",\"g\"] 和 [\"a\",\"f\",\"i\"]，均为非降序排列。    \n",
    "若选择 D = {}，那么 A 的列 [\"b\",\"a\",\"h\"] 就不是非降序排列了。\n",
    "\n",
    "示例 2：\n",
    "\n",
    ">输入：[\"a\", \"b\"]   \n",
    "输出：0    \n",
    "解释：D = {} \n",
    "\n",
    "示例 3：\n",
    "\n",
    ">输入：[\"zyx\", \"wvu\", \"tsr\"]   \n",
    "输出：3  \n",
    "解释：D = {0, 1, 2}"
   ]
  },
  {
   "cell_type": "markdown",
   "metadata": {},
   "source": [
    "#### 2、我的第一次解法 12.08\n",
    "\n",
    "**2.1 思路**\n",
    "\n",
    "* 对数组A中的每列判断是否有降序\n",
    "* 返回 降序列的数量\n",
    "\n",
    "**2.2 代码尝试**"
   ]
  },
  {
   "cell_type": "code",
   "execution_count": 6,
   "metadata": {},
   "outputs": [
    {
     "data": {
      "text/plain": [
       "6"
      ]
     },
     "execution_count": 6,
     "metadata": {},
     "output_type": "execute_result"
    }
   ],
   "source": [
    "class Solution:\n",
    "    def minDeletionSize(self, A: List[str]) -> int:\n",
    "        dells =0\n",
    "        for i in range(len(A)-2):\n",
    "            for index in range(len(A[i])):\n",
    "                if A[i][index] > A[i+1][index]:\n",
    "                    dell = 1\n",
    "            dells += dell       \n",
    "        return(dells) \n",
    "  \n",
    "## 我的卡点 思路ok 代码实现上有点困难"
   ]
  },
  {
   "cell_type": "markdown",
   "metadata": {},
   "source": [
    "**2.3 正确解法**"
   ]
  },
  {
   "cell_type": "code",
   "execution_count": null,
   "metadata": {},
   "outputs": [],
   "source": [
    "class Solution(object):\n",
    "    def minDeletionSize(self, A):\n",
    "        ans = 0\n",
    "        for col in zip(*A):\n",
    "            if any(col[i] > col[i+1] for i in xrange(len(col) - 1)):\n",
    "                ans += 1\n",
    "        return ans\n"
   ]
  },
  {
   "cell_type": "markdown",
   "metadata": {},
   "source": [
    "**2.4 优化我的解法**"
   ]
  },
  {
   "cell_type": "code",
   "execution_count": 13,
   "metadata": {},
   "outputs": [
    {
     "ename": "SyntaxError",
     "evalue": "'return' outside function (<ipython-input-13-6471b4ee732b>, line 6)",
     "output_type": "error",
     "traceback": [
      "\u001b[0;36m  File \u001b[0;32m\"<ipython-input-13-6471b4ee732b>\"\u001b[0;36m, line \u001b[0;32m6\u001b[0m\n\u001b[0;31m    return ans\u001b[0m\n\u001b[0m    ^\u001b[0m\n\u001b[0;31mSyntaxError\u001b[0m\u001b[0;31m:\u001b[0m 'return' outside function\n"
     ]
    }
   ],
   "source": [
    "dells =0\n",
    "for col in zip(*A):\n",
    "    if any(col[i] > col[i+1] for i in range(len(col)-1)):\n",
    "        ans +=1\n",
    "return ans\n",
    "\n"
   ]
  },
  {
   "cell_type": "markdown",
   "metadata": {},
   "source": [
    "#### python语法 if any(col[i] > col[i+1] for i in range(len(col)-1))\n",
    "\n",
    "从字符串col中一次取两个数据，精简语言，不需要写成\n",
    "```\n",
    "for i in range(len(col)-1)：\n",
    "    if（col[i] > col[i+1]）\n",
    "        吧啦吧啦  \n",
    "        \n",
    "## 其实我之前就是这么写的，然后又要判断条件又是 有一个满足条件就要计数 ，合在一起把自己绕晕了，优化了只需使用any\n",
    "\n",
    "```\n",
    "#### python语法zip() 和 zip(*)\n",
    "\n",
    "* zip()\n",
    "zip() 函数用于将可迭代的对象作为参数，将对象中对应的元素打包成一个个元组，然后返回由这些元组组成的列表。\n",
    "\n",
    "```python\n",
    "\n",
    "a = [1,2,3]\n",
    "b = [4,5,6]\n",
    "zipped = zip(a,b)     # 打包为元组的列表\n",
    "##输出[(1, 4), (2, 5), (3, 6)]\n",
    "\n",
    "```\n",
    "* zip(* )\n",
    " ’*‘表示解压，\n",
    "\n",
    "```python\n",
    "\n",
    "zip(*zipped)          # 与 zip 相反，*zipped 可理解为解压，返回二维矩阵式\n",
    "[(1, 2, 3), (4, 5, 6)]\n",
    "\n",
    "```\n"
   ]
  },
  {
   "cell_type": "code",
   "execution_count": 12,
   "metadata": {},
   "outputs": [
    {
     "name": "stdout",
     "output_type": "stream",
     "text": [
      "('c', 'd', 'g')\n",
      "('b', 'a', 'h')\n",
      "('a', 'f', 'i')\n",
      "('cba',)\n",
      "('daf',)\n",
      "('ghi',)\n"
     ]
    }
   ],
   "source": [
    "A = [\"cba\", \"daf\", \"ghi\"]\n",
    "\n",
    "for col in zip(*A):\n",
    "    print(col)\n",
    "\n",
    "for col in zip(A):\n",
    "    print(col)"
   ]
  },
  {
   "cell_type": "markdown",
   "metadata": {},
   "source": [
    "#### python语法 if any():\n",
    "\n",
    "all()：\"有‘假’为False，全‘真’为True，iterable为空是True\"\n",
    "any()：\"有‘真’为True，全‘假’为False，iterable为空是False\"\n",
    "\n"
   ]
  },
  {
   "cell_type": "code",
   "execution_count": null,
   "metadata": {},
   "outputs": [],
   "source": [
    "# 另外一种最优的解法\n",
    "\n",
    "class Solution:\n",
    "    def minDeletionSize(self, A: List[str]) -> int:\n",
    "        return len([1 for col in zip(*A) if sorted(col) != list(col)])\n"
   ]
  },
  {
   "cell_type": "code",
   "execution_count": 23,
   "metadata": {},
   "outputs": [
    {
     "name": "stdout",
     "output_type": "stream",
     "text": [
      "1\n"
     ]
    }
   ],
   "source": [
    "A = [\"cba\", \"dcf\", \"ghi\"]\n",
    "lend = len([5 for col in zip(*A) if sorted(col) != list(col)])\n",
    "print(lend)\n",
    "\n",
    "\n",
    "## 写的如此的精简，真的自愧不如 而且不需要循环判断列的顺序"
   ]
  },
  {
   "cell_type": "code",
   "execution_count": null,
   "metadata": {},
   "outputs": [],
   "source": []
  }
 ],
 "metadata": {
  "kernelspec": {
   "display_name": "py3",
   "language": "python",
   "name": "python36"
  },
  "language_info": {
   "codemirror_mode": {
    "name": "ipython",
    "version": 3
   },
   "file_extension": ".py",
   "mimetype": "text/x-python",
   "name": "python",
   "nbconvert_exporter": "python",
   "pygments_lexer": "ipython3",
   "version": "3.6.9"
  }
 },
 "nbformat": 4,
 "nbformat_minor": 2
}
