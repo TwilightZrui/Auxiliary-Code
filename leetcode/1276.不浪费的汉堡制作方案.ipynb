{
 "cells": [
  {
   "cell_type": "markdown",
   "metadata": {},
   "source": [
    "#### 目录\n",
    "* 原题描述 1276. 不浪费原料的汉堡制作方案\n",
    "* 第一遍解法 \n",
    "* 网上解法\n",
    "* 优化自己的代码\n",
    "* 第二遍解法 \n",
    "\n",
    "#### 1. 问题描述 \n",
    "\n",
    "贪心算法\n",
    "\n",
    "圣诞活动预热开始啦，汉堡店推出了全新的汉堡套餐。为了避免浪费原料，请你帮他们制定合适的制作计划。\n",
    "\n",
    "给你两个整数 tomatoSlices 和 cheeseSlices，分别表示番茄片和奶酪片的数目。不同汉堡的原料搭配如下：\n",
    "\n",
    "巨无霸汉堡：4 片番茄和 1 片奶酪\n",
    "小皇堡：2 片番茄和 1 片奶酪\n",
    "请你以 [total_jumbo, total_small]（[巨无霸汉堡总数，小皇堡总数]）的格式返回恰当的制作方案，使得剩下的番茄片 tomatoSlices 和奶酪片 cheeseSlices 的数量都是 0。\n",
    "\n",
    "如果无法使剩下的番茄片 tomatoSlices 和奶酪片 cheeseSlices 的数量为 0，就请返回 []。\n",
    "\n",
    " \n",
    "\n",
    "* 示例 1：\n",
    "\n",
    ">输入：tomatoSlices = 16, cheeseSlices = 7  \n",
    "输出：[1,6] \n",
    "解释：制作 1 个巨无霸汉堡和 6 个小皇堡需要 4*1 + 2*6 = 16 片番茄和 1 + 6 = 7 片奶酪。不会剩下原料。\n",
    "\n",
    "* 示例 2：\n",
    "\n",
    ">输入：tomatoSlices = 17, cheeseSlices = 4 \n",
    "输出：[]    \n",
    "解释：只制作小皇堡和巨无霸汉堡无法用光全部原料。\n",
    "\n",
    "* 示例 3：\n",
    "\n",
    ">输入：tomatoSlices = 4, cheeseSlices = 17 \n",
    "输出：[]    \n",
    "解释：制作 1 个巨无霸汉堡会剩下 16 片奶酪，制作 2 个小皇堡会剩下 15 片奶酪。\n",
    "\n",
    "* 示例 4：\n",
    "\n",
    ">输入：tomatoSlices = 0, cheeseSlices = 0     \n",
    "输出：[0,0]\n",
    "\n",
    "* 示例 5：\n",
    "\n",
    ">输入：tomatoSlices = 2, cheeseSlices = 1           \n",
    "输出：[0,1]\n",
    "\n",
    "\n",
    "\n",
    "#### 2、我的第一次解法 12.23\n",
    "\n",
    "**2.1 思路**\n",
    "\n",
    "* 首先 奶酪数*2 <=番茄数<=奶酪数*4 \n",
    "\n",
    "* 接下来，直接判断即可，这个逻辑很简单，逻辑简单的题就要看代码写的多精简\n",
    "\n",
    "* 送分题\n",
    "\n",
    "\n",
    "**2.2 代码尝试**\n"
   ]
  },
  {
   "cell_type": "code",
   "execution_count": null,
   "metadata": {},
   "outputs": [],
   "source": [
    "class Solution:\n",
    "    def numOfBurgers(self, tomatoSlices: int, cheeseSlices: int) -> List[int]:\n",
    "        print(tomatoSlices,cheeseSlices)\n",
    "        if  (tomatoSlices < cheeseSlices*2) or (tomatoSlices > cheeseSlices*4) or (tomatoSlices%2==1):\n",
    "            result =[]\n",
    "        else:\n",
    "            b = int((tomatoSlices - cheeseSlices*2)/2)\n",
    "            s = int(cheeseSlices-b) \n",
    "            result = [b,s]\n",
    "        \n",
    "        return(result)"
   ]
  },
  {
   "cell_type": "markdown",
   "metadata": {},
   "source": [
    "**2.3 正确代码解析**\n",
    "* 解法一\n",
    "\n",
    "```python\n",
    "\n",
    "class Solution:\n",
    "    def numOfBurgers(self, tomatoSlices: int, cheeseSlices: int) -> List[int]:\n",
    "        if tomatoSlices % 2 != 0 or tomatoSlices < cheeseSlices * 2 or cheeseSlices * 4 < tomatoSlices:\n",
    "            return []\n",
    "        return [tomatoSlices // 2 - cheeseSlices, cheeseSlices * 2 - tomatoSlices // 2]\n",
    "\n",
    "```\n",
    "\n",
    "* 解法二\n"
   ]
  },
  {
   "cell_type": "markdown",
   "metadata": {},
   "source": [
    "\n",
    "**2.4 我的代码改进**\n",
    "#### 3、相关知识讲解"
   ]
  }
 ],
 "metadata": {
  "kernelspec": {
   "display_name": "py3",
   "language": "python",
   "name": "python36"
  },
  "language_info": {
   "codemirror_mode": {
    "name": "ipython",
    "version": 3
   },
   "file_extension": ".py",
   "mimetype": "text/x-python",
   "name": "python",
   "nbconvert_exporter": "python",
   "pygments_lexer": "ipython3",
   "version": "3.6.9"
  }
 },
 "nbformat": 4,
 "nbformat_minor": 2
}
