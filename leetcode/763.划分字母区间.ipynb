{
 "cells": [
  {
   "cell_type": "markdown",
   "metadata": {},
   "source": [
    "#### 目录\n",
    "* 原题描述  \n",
    "* 第一遍解法 \n",
    "* 网上解法\n",
    "* 优化自己的代码\n",
    "* 第二遍解法 \n",
    "\n",
    "#### 1. 问题描述 763.划分字母区间\n",
    "字符串 S 由小写字母组成。我们要把这个字符串划分为尽可能多的片段，同一个字母只会出现在其中的一个片段。返回一个表示每个字符串片段的长度的列表。\n",
    "\n",
    "* 示例 1:\n",
    "\n",
    ">输入: S = \"ababcbacadefegdehijhklij\"   \n",
    "输出: [9,7,8]   \n",
    "解释:   \n",
    "划分结果为 \"ababcbaca\", \"defegde\", \"hijhklij\"。   \n",
    "每个字母最多出现在一个片段中。   \n",
    "像 \"ababcbacadefegde\", \"hijhklij\" 的划分是错误的，因为划分的片段数较少。\n",
    "\n",
    "\n",
    "\n",
    "#### 2、我的第一次解法 12.17\n",
    "\n",
    "**2.1 思路**\n",
    "\n",
    "* 遍历分类，第一个字母的索引以内都包含在第一个分组\n",
    "* 做切片，切片的一个字母不在第一个分组内的话，重复上面的操作，\n",
    "\n",
    "* 思路2 先统计每个字母的索引分类\n",
    "\n",
    "**2.2 代码尝试**\n"
   ]
  },
  {
   "cell_type": "code",
   "execution_count": null,
   "metadata": {},
   "outputs": [],
   "source": [
    "class Solution:\n",
    "    def partitionLabels(self, S: str) -> List[int]:\n",
    "        for s in S:\n",
    "            list1 = S[:S.rindex(s)+1]\n",
    "            if s in list1 and S.rindex(s) > len(list1):\n",
    "                list1 = S[:S.rindex(s)+1]\n",
    "                print(list1)\n",
    "                \n",
    "## 代码能力需加强\n"
   ]
  },
  {
   "cell_type": "markdown",
   "metadata": {},
   "source": [
    "**2.3 正确代码解析**\n",
    "* 解法一\n",
    "\n",
    "\n",
    "```python\n",
    "\n",
    "#两次遍历 \n",
    "# 第一次遍历 得到字符最后的位置\n",
    "# 第二次遍历 在首字符最后位置之前 遍历其他字符，如果其他字符的的最后位置大于首字符的最后位置，则更新最后位置，否则当前最后位置作为一个片段的末尾\n",
    "\n",
    "class Solution:\n",
    "    def partitionLabels(self, S: str) -> List[int]:\n",
    "        dic = {}\n",
    "        for i ,s1 in enumerate(S):\n",
    "            dic[s1] = i\n",
    "        result = []\n",
    "        cur = dic[S[0]]\n",
    "        for i ,s1 in enumerate(S):\n",
    "            if dic[s1] > cur :\n",
    "                cur = dic[s1]\n",
    "            if i == cur :\n",
    "                result.append(cur+1-sum(result))\n",
    "        return result\n",
    "\n",
    "```\n",
    "\n",
    "\n",
    "* 解法二\n",
    "\n",
    "**2.4 我的代码改进**\n",
    "\n",
    "``` python\n",
    "class Solution:\n",
    "    def partitionLabels(self, S: str) -> List[int]:\n",
    "        dic = {}\n",
    "        for s in S:\n",
    "            dic[s]=S.rindex(s)\n",
    "        result = []\n",
    "        cur = dic[S[0]] ## 从第一个元素的最终位置开始\n",
    "        for i ,s1 in enumerate(S):## 获取字符和字符位置，两个同时判断\n",
    "            if dic[s1] > cur : ## 如果这个字符的最终位置 大于原来的最终位置\n",
    "                cur = dic[s1] ##更新最终位置\n",
    "            if i == cur :  ## 如果索引到了最终位置这个地方\n",
    "                result.append(cur+1-sum(result))  ## 增加一个数组\n",
    "        return result\n",
    "```\n"
   ]
  },
  {
   "cell_type": "markdown",
   "metadata": {},
   "source": [
    "#### 3、相关知识讲解"
   ]
  },
  {
   "cell_type": "code",
   "execution_count": 1,
   "metadata": {},
   "outputs": [
    {
     "ename": "SyntaxError",
     "evalue": "invalid syntax (<ipython-input-1-086a92a6a8d9>, line 1)",
     "output_type": "error",
     "traceback": [
      "\u001b[0;36m  File \u001b[0;32m\"<ipython-input-1-086a92a6a8d9>\"\u001b[0;36m, line \u001b[0;32m1\u001b[0m\n\u001b[0;31m    defaultdict(<class 'list'>, {'a': [0, 2, 6, 8], 'b': [1, 3, 5], 'c': [4, 7], 'd': [9, 14], 'e': [10, 12, 15], 'f': [11], 'g': [13], 'h': [16, 19], 'i': [17, 22], 'j': [18, 23], 'k': [20], 'l': [21]})\u001b[0m\n\u001b[0m                ^\u001b[0m\n\u001b[0;31mSyntaxError\u001b[0m\u001b[0;31m:\u001b[0m invalid syntax\n"
     ]
    }
   ],
   "source": [
    "defaultdict(<class 'list'>, {'a': [0, 2, 6, 8], 'b': [1, 3, 5], 'c': [4, 7], 'd': [9, 14], 'e': [10, 12, 15], 'f': [11], 'g': [13], 'h': [16, 19], 'i': [17, 22], 'j': [18, 23], 'k': [20], 'l': [21]})\n",
    "['a', 'a', 'a', 'a', 'b', 'b', 'b', 'c', 'c', 'd', 'd', 'e', 'e', 'e', 'f', 'g', 'h', 'h', 'i', 'i', 'j', 'j', 'k', 'l']"
   ]
  },
  {
   "cell_type": "code",
   "execution_count": null,
   "metadata": {},
   "outputs": [],
   "source": []
  }
 ],
 "metadata": {
  "kernelspec": {
   "display_name": "py3",
   "language": "python",
   "name": "python36"
  },
  "language_info": {
   "codemirror_mode": {
    "name": "ipython",
    "version": 3
   },
   "file_extension": ".py",
   "mimetype": "text/x-python",
   "name": "python",
   "nbconvert_exporter": "python",
   "pygments_lexer": "ipython3",
   "version": "3.6.9"
  }
 },
 "nbformat": 4,
 "nbformat_minor": 2
}
