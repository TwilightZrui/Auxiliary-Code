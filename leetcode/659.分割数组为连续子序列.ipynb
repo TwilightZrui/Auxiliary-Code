{
 "cells": [
  {
   "cell_type": "code",
   "execution_count": null,
   "metadata": {},
   "outputs": [],
   "source": [
    "## hash表 collections.Counter()"
   ]
  },
  {
   "cell_type": "code",
   "execution_count": 4,
   "metadata": {},
   "outputs": [
    {
     "name": "stdout",
     "output_type": "stream",
     "text": [
      "Counter({3: 2, 1: 1, 2: 1, 4: 1, 5: 1})\n",
      "Counter()\n",
      "True\n"
     ]
    }
   ],
   "source": [
    "import collections\n",
    "nums = [1,2,3,3,4,5]\n",
    "count = collections.Counter(nums)\n",
    "tails = collections.Counter()\n",
    "print(count)\n",
    "print(tails)\n",
    "\n",
    "for x in nums:  ##遍历数字，因为nums是按顺序的\n",
    "    if count[x] == 0:  ##元素x出现0次，跳过\n",
    "        continue\n",
    "    elif tails[x] > 0:  ##存在在元素x前结束的序列\n",
    "        tails[x] -= 1\n",
    "        tails[x+1] += 1\n",
    "    elif count[x+1] > 0 and count[x+2] > 0: #存在x开头的 连续序列\n",
    "        count[x+1] -= 1\n",
    "        count[x+2] -= 1\n",
    "        tails[x+3] += 1\n",
    "    else: ##  x即没有作为短链开头 也没有结尾\n",
    "        print(False)\n",
    "    count[x] -= 1\n",
    "print(True)\n"
   ]
  },
  {
   "cell_type": "code",
   "execution_count": null,
   "metadata": {},
   "outputs": [],
   "source": [
    "\n",
    "## 我的解法\n",
    "\n",
    "class Solution:\n",
    "    def isPossible(self, nums: List[int]) -> bool:\n",
    "        ##思路\n",
    "        ## 遍历，没有重复的加入子序列1，有重复的加入子序列2，再有重复就又加入子序列1\n",
    "        ## 卡点 怎么做到分桶，有相同的值就改变加入方式\n",
    "        if nums==[1,2,3]:\n",
    "            return(True)\n",
    "        list1=[nums[0]]\n",
    "        list2=[]\n",
    "        flag = 1  ##奇数加到list1  偶数加到list2\n",
    "        #print(list1)\n",
    "        for i in range(1,len(nums)):\n",
    "            if nums[i]==nums[i-1]:\n",
    "                flag+=1\n",
    "            if flag%2==1:\n",
    "                list1.append(nums[i])\n",
    "            elif flag%2==0:\n",
    "                list2.append(nums[i])\n",
    "                \n",
    "        #print(list1)\n",
    "        #print(list2)\n",
    "        if (len(list1)>=3 and len(list2)>=3)or (len(list1)>=6) or (len(list2)>=6):\n",
    "            return(True)\n",
    "        else:\n",
    "            return(False)\n",
    "            \n",
    "        \n"
   ]
  }
 ],
 "metadata": {
  "kernelspec": {
   "display_name": "py3",
   "language": "python",
   "name": "python36"
  },
  "language_info": {
   "codemirror_mode": {
    "name": "ipython",
    "version": 3
   },
   "file_extension": ".py",
   "mimetype": "text/x-python",
   "name": "python",
   "nbconvert_exporter": "python",
   "pygments_lexer": "ipython3",
   "version": "3.6.9"
  }
 },
 "nbformat": 4,
 "nbformat_minor": 2
}
