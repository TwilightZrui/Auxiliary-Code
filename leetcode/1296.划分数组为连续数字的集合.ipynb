{
 "cells": [
  {
   "cell_type": "markdown",
   "metadata": {},
   "source": [
    "#### 目录\n",
    "* 原题描述   1296.划分数组为连续数字的集合\n",
    "* 第一遍解法 \n",
    "* 网上解法\n",
    "* 优化自己的代码\n",
    "* 第二遍解法 \n",
    "\n",
    "#### 1. 问题描述\n",
    "\n",
    "\n",
    "给你一个整数数组 nums 和一个正整数 k，请你判断是否可以把这个数组划分成一些由 k 个连续数字组成的集合。\n",
    "如果可以，请返回 True；否则，返回 False。\n",
    " \n",
    "\n",
    "* 示例 1：\n",
    "\n",
    ">输入：nums = [1,2,3,3,4,4,5,6], k = 4  \n",
    "输出：true   \n",
    "解释：数组可以分成 [1,2,3,4] 和 [3,4,5,6]。\n",
    "\n",
    "* 示例 2：\n",
    "\n",
    ">输入：nums = [3,2,1,2,3,4,3,4,5,9,10,11], k = 3     \n",
    "输出：true  \n",
    "解释：数组可以分成 [1,2,3] , [2,3,4] , [3,4,5] 和 [9,10,11]。\n",
    "\n",
    "* 示例 3：\n",
    "\n",
    ">输入：nums = [3,3,2,2,1,1], k = 3   \n",
    "输出：true\n",
    "\n",
    "* 示例 4：\n",
    "\n",
    ">输入：nums = [1,2,3,4], k = 3  \n",
    "输出：false   \n",
    "解释：数组不能分成几个大小为 3 的子数组。\n",
    "\n",
    "#### 2、我的第一次解法 12.31\n",
    "\n",
    "**2.1 思路**\n",
    "\n",
    "* 判断可不可以分为连续序列 跟659题是一样的？？\n",
    "* 动态规划，判断尾部的摆动\n",
    "* 我认为跟[659题](https://leetcode-cn.com/problems/split-array-into-consecutive-subsequences/)是一样的 只不过加了一个参数k，659题就是k=3的情况\n",
    "\n",
    "* 同样类似的还有 [846题](https://leetcode-cn.com/problems/hand-of-straights/)\n",
    "\n",
    "\n",
    "**2.2 代码尝试**"
   ]
  },
  {
   "cell_type": "code",
   "execution_count": 17,
   "metadata": {
    "scrolled": true
   },
   "outputs": [
    {
     "name": "stdout",
     "output_type": "stream",
     "text": [
      "<_>\n"
     ]
    }
   ],
   "source": [
    "class Solution:\n",
    "    def isPossibleDivide(self, nums: List[int], k: int) -> bool:\n",
    "        # 先排序\n",
    "        ## 如果不能被k整除，就不能分桶，返回false\n",
    "        if len(nums)%k!=0:\n",
    "            return(False)\n",
    "        count=collections.Counter(nums)\n",
    "        tail=collections.Counter()\n",
    "        tmp=0\n",
    "        for x in nums:\n",
    "            if count[x]==0:\n",
    "                continue\n",
    "            elif tail[x]>0:\n",
    "                tail[x]-=1\n",
    "                tail[x+1]+=1\n",
    "            elif count[x]>0 and count[x+k]>0:\n",
    "                for i in range(k):\n",
    "                    if count[x+i]>0:\n",
    "                        tmp+=1\n",
    "                if tmp==k:\n",
    "                    for i in range(k):\n",
    "                        count[x+i]-=1\n",
    "                    tail[x+k]+=1\n",
    "            else:\n",
    "                return(False)\n",
    "            count[x]-=1\n",
    "        return(True)   \n",
    "\n",
    "#没有举一反三哦    "
   ]
  },
  {
   "cell_type": "code",
   "execution_count": 23,
   "metadata": {},
   "outputs": [
    {
     "data": {
      "text/plain": [
       "2"
      ]
     },
     "execution_count": 23,
     "metadata": {},
     "output_type": "execute_result"
    }
   ],
   "source": []
  },
  {
   "cell_type": "markdown",
   "metadata": {},
   "source": [
    "**2.3 正确代码解析**\n",
    "\n",
    "\n",
    "**解法一：排序+模拟**\n",
    "\n",
    "* 计数\n",
    "\n",
    "* 考虑数组中nums中最小的数a0，显然a0作为一个集合的最小值，则该集合为[a0,a0+1,……，a0+k]等k个数，于是将这k个数从nums中移除\n",
    "\n",
    "* 在考虑剩余元素中的最小的数a1，重复操作\n",
    "\n",
    "* 如果不存在k个元素的集合，或者移除完所有集合元素后，nums中还包含元素，则返回False\n",
    "\n",
    "```python\n",
    "\n",
    "class Solution:\n",
    "    def isPossibleDivide(self, nums: List[int], k: int) -> bool:\n",
    "        s = collections.Counter(nums) # 计数\n",
    "        ordered_nums = sorted(s) # 排序\n",
    "        for num in ordered_nums:  ##遍历最小值\n",
    "            occ = s[num] \n",
    "            if s[num] > 0:\n",
    "                for i in range(num + 1, num + k):\n",
    "                    if s[i] >= occ:\n",
    "                        s[i] -= occ\n",
    "                    else:\n",
    "                        return False\n",
    "        return True\n",
    "\n",
    "```\n",
    "\n",
    "**2.4 我的代码改进**\n",
    "#### 3、相关知识讲解"
   ]
  },
  {
   "cell_type": "code",
   "execution_count": null,
   "metadata": {},
   "outputs": [],
   "source": []
  }
 ],
 "metadata": {
  "kernelspec": {
   "display_name": "py3",
   "language": "python",
   "name": "python36"
  },
  "language_info": {
   "codemirror_mode": {
    "name": "ipython",
    "version": 3
   },
   "file_extension": ".py",
   "mimetype": "text/x-python",
   "name": "python",
   "nbconvert_exporter": "python",
   "pygments_lexer": "ipython3",
   "version": "3.6.9"
  }
 },
 "nbformat": 4,
 "nbformat_minor": 2
}
