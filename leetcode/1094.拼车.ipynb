{
 "cells": [
  {
   "cell_type": "markdown",
   "metadata": {},
   "source": [
    "#### 目录 1094.拼车\n",
    "* 原题描述  \n",
    "* 第一遍解法 \n",
    "* 网上解法\n",
    "* 优化自己的代码\n",
    "* 第二遍解法 \n",
    "\n",
    "#### 1. 问题描述\n",
    "\n",
    "\n",
    "假设你是一位顺风车司机，车上最初有 capacity 个空座位可以用来载客。由于道路的限制，车 只能 向一个方向行驶（也就是说，不允许掉头或改变方向，你可以将其想象为一个向量）。\n",
    "\n",
    "这儿有一份行程计划表 trips[][]，其中 trips[i] = [num_passengers, start_location, end_location] 包含了你的第 i 次行程信息：\n",
    "\n",
    "必须接送的乘客数量；\n",
    "乘客的上车地点；\n",
    "以及乘客的下车地点。\n",
    "这些给出的地点位置是从你的 初始 出发位置向前行驶到这些地点所需的距离（它们一定在你的行驶方向上）。\n",
    "\n",
    "请你根据给出的行程计划表和车子的座位数，来判断你的车是否可以顺利完成接送所用乘客的任务（当且仅当你可以在所有给定的行程中接送所有乘客时，返回 true，否则请返回 false）。\n",
    "\n",
    "* 示例 1：\n",
    "\n",
    ">输入：trips = [[2,1,5],[3,3,7]], capacity = 4  \n",
    "输出：false\n",
    "\n",
    "* 示例 2：\n",
    "\n",
    ">输入：trips = [[2,1,5],[3,3,7]], capacity = 5 \n",
    "输出：true\n",
    "\n",
    "* 示例 3：\n",
    "\n",
    ">输入：trips = [[2,1,5],[3,5,7]], capacity = 3 \n",
    "输出：true\n",
    "\n",
    "* 示例 4：\n",
    "\n",
    ">输入：trips = [[3,2,7],[3,7,9],[8,3,9]], capacity = 11  \n",
    "输出：true\n",
    "\n",
    "\n",
    "#### 2、我的第一次解法 12.22\n",
    "\n",
    "**2.1 思路**\n",
    "\n",
    "* 行程重复的乘客，乘客数量相加应该小于空位数\n",
    "* 判断行程重复的，比较前一个行程的下车点和下一个行程的上车点\n",
    "\n",
    "\n",
    "**2.2 代码尝试**"
   ]
  },
  {
   "cell_type": "code",
   "execution_count": null,
   "metadata": {},
   "outputs": [],
   "source": [
    "class Solution:\n",
    "    def carPooling(self, trips: List[List[int]], capacity: int) -> bool:\n",
    "        trips.sort(key =lambda x : x[1]) #先按上车顺序排序\n",
    "        result = 0\n",
    "        for i in range(len(trips)-1):\n",
    "            if trips[i][2] > trips[i+1][1]:#第二批在第一批没有下车情况下上车\n",
    "                if trips[i][0] + trips[i+1][0] > capacity:\n",
    "                    #print('3',trips[i][0] + trips[i+1][0])\n",
    "                    return(0)\n",
    "                    break\n",
    "                else:\n",
    "                   result +=1 \n",
    "            else:\n",
    "                result +=1\n",
    "        print('result',result)\n",
    "        if result == len(trips)-1:\n",
    "            #print(result)\n",
    "            return(1)\n",
    "## 逻辑存在漏洞，这种情况没有考虑到同时好几批乘客上车，只考虑了相邻乘客上车的情况"
   ]
  },
  {
   "cell_type": "markdown",
   "metadata": {},
   "source": [
    "**2.3 正确代码解析**\n",
    "* 解法一\n",
    "\n",
    "计算每个时间点增加的净人数，这个思路我觉得很棒\n",
    "\n",
    "```python\n",
    "\n",
    "\n",
    "class Solution:\n",
    "    def carPooling(self, trips: List[List[int]], capacity: int) -> bool:\n",
    "        onoff = collections.defaultdict(int) #接受list作为内嵌的dic\n",
    "        for v, s, t in trips:\n",
    "            onoff[s] += v  #s时间点上车的人\n",
    "            onoff[t] -= v  #t时间点下车的人\n",
    "\n",
    "        onoff = [(k, v) for k, v in onoff.items()] #转化为list 按时间点排序\n",
    "        onoff.sort()\n",
    "\n",
    "        count = 0\n",
    "        for t, v in onoff:#计算每个时间的在车上的人数\n",
    "            count += v\n",
    "            if count > capacity:\n",
    "                return False\n",
    "\n",
    "        return True\n",
    "```\n",
    "* 解法二\n",
    "\n",
    "\n",
    "\n",
    "\n"
   ]
  },
  {
   "cell_type": "markdown",
   "metadata": {},
   "source": [
    "**2.4 我的代码改进**"
   ]
  },
  {
   "cell_type": "code",
   "execution_count": null,
   "metadata": {},
   "outputs": [],
   "source": []
  },
  {
   "cell_type": "markdown",
   "metadata": {},
   "source": [
    "#### 3、相关知识讲解\n",
    "\n",
    "#### 3.1 collections.defaultdict(int)\n",
    "\n",
    "构建的是一个类似dictionary的对象，\n",
    "\n",
    "其中keys的值，自行确定赋值，\n",
    "\n",
    "但是values的类型，是function_factory的类实例，而且具有默认值。\n",
    "\n",
    "比如default(int)则创建一个类似dictionary对象，里面任何的values都是int的实例，而且就算是一个不存在的key, d[key] 也有一个默认值，这个默认值是int()的默认值0."
   ]
  },
  {
   "cell_type": "code",
   "execution_count": 4,
   "metadata": {},
   "outputs": [
    {
     "name": "stdout",
     "output_type": "stream",
     "text": [
      "3 9\n",
      "6 -3\n",
      "1 8\n",
      "7 -8\n",
      "8 -6\n",
      "4 8\n",
      "9 -12\n",
      "2 4\n",
      "1 8\n",
      "2 4\n",
      "3 9\n",
      "4 8\n",
      "6 -3\n",
      "7 -8\n",
      "8 -6\n",
      "9 -12\n"
     ]
    }
   ],
   "source": [
    "import collections\n",
    "trips=[[9,3,6],[8,1,7],[6,6,8],[8,4,9],[4,2,9]]\n",
    "onoff = collections.defaultdict(int) #接受list作为内嵌的dic\n",
    "for v, s, t in trips:\n",
    "    onoff[s] += v  #s时间点上车的人\n",
    "    onoff[t] -= v  #t时间点下车的人\n",
    "\n",
    "for k, v in onoff.items():\n",
    "    print(k,v)\n",
    "    \n",
    "onoff = [(k, v) for k, v in onoff.items()]\n",
    "onoff.sort()\n",
    "\n",
    "for t, v in onoff:\n",
    "    print(t,v)"
   ]
  },
  {
   "cell_type": "code",
   "execution_count": null,
   "metadata": {},
   "outputs": [],
   "source": []
  }
 ],
 "metadata": {
  "kernelspec": {
   "display_name": "py3",
   "language": "python",
   "name": "python36"
  },
  "language_info": {
   "codemirror_mode": {
    "name": "ipython",
    "version": 3
   },
   "file_extension": ".py",
   "mimetype": "text/x-python",
   "name": "python",
   "nbconvert_exporter": "python",
   "pygments_lexer": "ipython3",
   "version": "3.6.9"
  }
 },
 "nbformat": 4,
 "nbformat_minor": 2
}
