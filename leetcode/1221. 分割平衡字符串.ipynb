{
 "cells": [
  {
   "cell_type": "markdown",
   "metadata": {},
   "source": [
    "#### 目录\n",
    "* 原题描述 1.两数之和\n",
    "* 第一遍解法 12/08\n",
    "* 网上解法\n",
    "* 优化自己的代码\n",
    "* 第二遍解法 \n",
    "\n",
    "#### 1. 问题描述\n",
    "\n",
    "在一个「平衡字符串」中，'L' 和 'R' 字符的数量是相同的。\n",
    "\n",
    "给出一个平衡字符串 s，请你将它分割成尽可能多的平衡字符串。\n",
    "\n",
    "返回可以通过分割得到的平衡字符串的最大数量。\n",
    "\n",
    "\n",
    "示例 1：\n",
    "\n",
    ">输入：s = \"RLRRLLRLRL\"   \n",
    "输出：4  \n",
    "解释：s 可以分割为 \"RL\", \"RRLL\", \"RL\", \"RL\", 每个子字符串中都包含相 同数量的 'L' 和 'R'。\n",
    "\n",
    "示例 2：\n",
    "\n",
    ">输入：s = \"RLLLLRRRLR\"  \n",
    "输出：3   \n",
    "解释：s 可以分割为 \"RL\", \"LLLRRR\", \"LR\", 每个子字符串中都包含相同数的 'L' 和 'R'。\n",
    "\n",
    "示例 3：\n",
    "\n",
    ">输入：s = \"LLLLRRRR\"   \n",
    "输出：1  \n",
    "解释：s 只能保持原样 \"LLLLRRRR\".\n"
   ]
  },
  {
   "cell_type": "markdown",
   "metadata": {},
   "source": [
    "#### 2、我的第一次解法 12.09\n",
    "\n",
    "**2.1 思路**\n",
    "\n",
    "整个字符串先按两个两个分组，得len(s)／2个字符串\n",
    "\n",
    "然后计算字符串中相邻相同的字符计数，num=n\n",
    "\n",
    "输出 len（s）／2 -n+1\n",
    "\n",
    "\n",
    "**2.2 代码尝试**"
   ]
  },
  {
   "cell_type": "code",
   "execution_count": 5,
   "metadata": {},
   "outputs": [],
   "source": [
    "class Solution:\n",
    "    def balancedStringSplit(self, s: str) -> int:\n",
    "        l =len(s)\n",
    "        s =list(s)\n",
    "        num =0\n",
    "        for i in range(len(s)):\n",
    "            if s[i]==s[i+1]:\n",
    "                num+=1\n",
    "            else:\n",
    "                continue\n",
    "        return l-num+1 "
   ]
  },
  {
   "cell_type": "markdown",
   "metadata": {},
   "source": [
    "**2.3 答案解析**\n",
    "我的答案是错的，思路也是错的，根本不晓得这里的思路\n",
    "\n",
    "#### 正确答案解析\n",
    "\n",
    "问题分析：\n",
    "\n",
    "分割平衡串，得到尽可能多的平衡串。这是一个适用贪心算法的问题，在适当的位置截断源串得到平衡子串，截断后前后子串的计数不互相影响（无后效性），且所有局部最优相加即为整体的最优解。\n",
    "\n",
    "\n"
   ]
  },
  {
   "cell_type": "code",
   "execution_count": null,
   "metadata": {},
   "outputs": [],
   "source": [
    "class Solution:\n",
    "    def balancedStringSplit(self, s: str) -> int:\n",
    "        res = 0\n",
    "        cur = 0\n",
    "        for x in s:\n",
    "            if x == 'L':\n",
    "                cur -= 1\n",
    "            else:\n",
    "                cur += 1\n",
    "            if cur == 0:\n",
    "                res += 1\n",
    "        return res"
   ]
  },
  {
   "cell_type": "code",
   "execution_count": null,
   "metadata": {},
   "outputs": [],
   "source": [
    "### 根据正确答案修改后的答案\n",
    "\n",
    "class Solution:\n",
    "    def balancedStringSplit(self, s: str) -> int:\n",
    "        cp = 0\n",
    "        result = 0\n",
    "        for i in s:\n",
    "            if i =='L':\n",
    "                cp +=1\n",
    "            else:\n",
    "                cp -=1\n",
    "            if cp ==0: ###得到一个cp\n",
    "                result +=1\n",
    "        return (result) "
   ]
  }
 ],
 "metadata": {
  "kernelspec": {
   "display_name": "py3",
   "language": "python",
   "name": "python36"
  },
  "language_info": {
   "codemirror_mode": {
    "name": "ipython",
    "version": 3
   },
   "file_extension": ".py",
   "mimetype": "text/x-python",
   "name": "python",
   "nbconvert_exporter": "python",
   "pygments_lexer": "ipython3",
   "version": "3.6.9"
  }
 },
 "nbformat": 4,
 "nbformat_minor": 2
}
