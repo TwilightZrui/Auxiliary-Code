{
 "cells": [
  {
   "cell_type": "markdown",
   "metadata": {},
   "source": [
    "#### 目录\n",
    "* 原题描述  861.翻转矩阵后的得分\n",
    "* 第一遍解法 \n",
    "* 网上解法\n",
    "* 优化自己的代码\n",
    "* 第二遍解法 \n",
    "\n",
    "#### 1. 问题描述\n",
    "\n",
    "难度：中等\n",
    "\n",
    "有一个二维矩阵 A 其中每个元素的值为 0 或 1 。\n",
    "\n",
    "移动是指选择任一行或列，并转换该行或列中的每一个值：将所有 0 都更改为 1，将所有 1 都更改为 0。\n",
    "\n",
    "在做出任意次数的移动后，将该矩阵的每一行都按照二进制数来解释，矩阵的得分就是这些数字的总和。\n",
    "\n",
    "返回尽可能高的分数。\n",
    "\n",
    "* 示例\n",
    "\n",
    ">输入：[[0,0,1,1],[1,0,1,0],[1,1,0,0]]   \n",
    "输出：39   \n",
    "解释：    \n",
    "转换为 [[1,1,1,1],[1,0,0,1],[1,1,1,1]]\n",
    "0b1111 + 0b1001 + 0b1111 = 15 + 9 + 15 = 39\n",
    "\n",
    "\n",
    "\n",
    "#### 2、我的第一次解法 12.17\n",
    "\n",
    "**2.1 思路**\n",
    "\n",
    "* 第一步 将每行进行 行变换 得到最大行  行的转换目的是尽量让高位是1\n",
    "\n",
    "* 第二步 将每列进行 列变换 的到最大列 列的转换比较简单 就是尽量多1\n",
    "\n",
    "* 问题是 怎么判断是否转换 如何转换\n",
    "\n",
    "**2.2 代码尝试**\n"
   ]
  },
  {
   "cell_type": "code",
   "execution_count": null,
   "metadata": {},
   "outputs": [],
   "source": [
    "class Solution:\n",
    "    def matrixScore(self, A: List[List[int]]) -> int:\n",
    "        for i in range(len(A)):\n",
    "            sum = 0 \n",
    "            for j in rang(len(A[0])):\n",
    "                sum + = A[i][j]\n",
    "            if sum < round(len(A(0)/2)):\n",
    "                A[A[i][j]=0] = 1\n",
    "                \n",
    "## 思路正确 同样还是实现问题 实现不了相当于没有写出来              "
   ]
  },
  {
   "cell_type": "markdown",
   "metadata": {},
   "source": [
    "\n",
    "**2.3 正确代码解析**\n",
    "\n",
    "**贪心算法**\n",
    "* 行变换：只要第一个数为1，就不需要转换，因为1XXXXX 肯定大于 011111\n",
    "\n",
    "* 列变换 1的个数大于0的个数\n",
    "\n",
    "* 解法一\n",
    "\n",
    "```python\n",
    "\n",
    "# 贪心算法\n",
    "## 代码实现和思路略有不同，实际只需返回每列的最多的1的数量\n",
    "## 统计0，1数量可以通过 异或^(两数不同返回1，两数相同返回0)\n",
    "\n",
    "class Solution(object):\n",
    "    def matrixScore(self, A):\n",
    "        R, C = len(A), len(A[0])## R矩阵行，C矩阵列\n",
    "        ans = 0\n",
    "        for c in xrange(C):\n",
    "            col = 0\n",
    "            for r in xrange(R):\n",
    "                col += A[r][c] ^ A[r][0]\n",
    "            ans += max(col, R - col) * 2 ** (C - 1 - c) ##总和 按列计算，第c列可以包含的最大1的个数*该列代表的10进制表示 2的(C - 1 - c)次方\n",
    "        return ans\n",
    "\n",
    "```\n",
    "* 解法二\n",
    "\n",
    "**2.4 我的代码改进**\n",
    "#### 3、相关知识讲解"
   ]
  },
  {
   "cell_type": "code",
   "execution_count": 4,
   "metadata": {},
   "outputs": [
    {
     "name": "stdout",
     "output_type": "stream",
     "text": [
      "44\n"
     ]
    }
   ],
   "source": [
    "A=[[0,0,1,1],[0,0,1,0],[1,1,0,0]]\n",
    "R, C = len(A), len(A[0])\n",
    "ans = 0\n",
    "for c in range(C):\n",
    "    col = 0\n",
    "    for r in range(R):\n",
    "        col += A[r][c] ^ A[r][0]\n",
    "    ans += max(col, R - col) * 2 ** (C - 1 - c)\n",
    "\n",
    "print(ans)"
   ]
  },
  {
   "cell_type": "code",
   "execution_count": null,
   "metadata": {},
   "outputs": [],
   "source": []
  }
 ],
 "metadata": {
  "kernelspec": {
   "display_name": "py3",
   "language": "python",
   "name": "python36"
  },
  "language_info": {
   "codemirror_mode": {
    "name": "ipython",
    "version": 3
   },
   "file_extension": ".py",
   "mimetype": "text/x-python",
   "name": "python",
   "nbconvert_exporter": "python",
   "pygments_lexer": "ipython3",
   "version": "3.6.9"
  }
 },
 "nbformat": 4,
 "nbformat_minor": 2
}
