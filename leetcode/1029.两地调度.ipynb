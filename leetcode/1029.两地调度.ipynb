{
 "cells": [
  {
   "cell_type": "markdown",
   "metadata": {},
   "source": [
    "#### 目录\n",
    "* 1.原题描述 \n",
    "* 2.第一遍解法 12/12\n",
    "* 2.2网上解法\n",
    "* 2.3优化自己的代码\n",
    "* 2.4 相关知识讲解\n",
    "* 第二遍解法 \n",
    "\n",
    "#### 1. 问题描述\n",
    "\n",
    "公司计划面试 2N 人。第 i 人飞往 A 市的费用为 costs[i][0]，飞往 B 市的费用为 costs[i][1]。\n",
    "\n",
    "返回将每个人都飞到某座城市的最低费用，要求每个城市都有 N 人抵达。\n",
    "\n",
    " \n",
    "\n",
    "**示例：**\n",
    "\n",
    ">输入：[[10,20],[30,200],[400,50],[30,20]]  \n",
    "输出：110   \n",
    "解释：    \n",
    "第一个人去 A 市，费用为 10。  \n",
    "第二个人去 A 市，费用为 30。  \n",
    "第三个人去 B 市，费用为 50。  \n",
    "第四个人去 B 市，费用为 20。  \n",
    "最低总费用为 10 + 30 + 50 + 20 = 110，每个城市都有一半的人在面试。\n",
    "\n",
    "#### 2、我的第一次解法 12.10\n",
    "\n",
    "**2.1 思路**\n",
    "* 本质是判断每个人 飞往A市还是飞往B市\n",
    "* 循环 对每个人判断\n",
    "* 卡点竟然是 List[List[int]]的长度获取？\n",
    "**2.2 代码尝试**"
   ]
  },
  {
   "cell_type": "code",
   "execution_count": null,
   "metadata": {},
   "outputs": [],
   "source": [
    "class Solution:\n",
    "    def twoCitySchedCost(self, costs: List[List[int]]) -> int:\n",
    "        fee = 0\n",
    "        for man in costs:\n",
    "            fee +=min(man)\n",
    "        return(fee)\n",
    "    \n",
    "## 代码错误，这样的问题是飞往AB市的人数不相同\n",
    "## 加上一个条件 a不超过"
   ]
  },
  {
   "cell_type": "markdown",
   "metadata": {},
   "source": [
    "\n",
    "**2.3 正确代码解析**\n",
    "* 解法一 贪心\n",
    "公司首先将这 2N 个人全都安排飞往 B 市，\n",
    "\n",
    "再选出 N个人改变它们的行程，让他们飞往 A 市。\n",
    "\n",
    "如果选择改变一个人的行程，那么公司将会额外付出 price_A - price_B 的费用，这个费用可正可负。\n",
    " \n",
    "因此最优的方案是，选出price_A - price_B最小的N个人，让他们飞往A市，剩下的飞往B市，计算出总费用\n",
    "\n",
    "算法\n",
    "\n",
    "按照 price_A - price_B 从小到大排序；\n",
    "\n",
    "将前 NN 个人飞往 A 市，其余人飞往 B 市，并计算出总费用\n",
    "\n",
    "\n",
    "\n"
   ]
  },
  {
   "cell_type": "code",
   "execution_count": null,
   "metadata": {},
   "outputs": [],
   "source": [
    "class Solution:\n",
    "    def twoCitySchedCost(self, costs: List[List[int]]) -> int:\n",
    "        costs.sort(key = lambda x : x[0] - x[1])   ## 按照cost_a - cost_b排列\n",
    "        total = 0\n",
    "        n = len(costs) // 2\n",
    "        for i in range(n):\n",
    "            total += costs[i][0] + costs[i + n][1] ## 前n个人去A市，剩下去B市\n",
    "        return total"
   ]
  },
  {
   "cell_type": "code",
   "execution_count": 4,
   "metadata": {},
   "outputs": [
    {
     "name": "stdout",
     "output_type": "stream",
     "text": [
      "[[30, 200], [30, 50], [10, 20], [30, 20]]\n"
     ]
    }
   ],
   "source": [
    "costs=[[10,20],[30,200],[30,50],[30,20]]\n",
    "costs.sort(key = lambda x : x[0] - x[1])\n",
    "print(costs)"
   ]
  },
  {
   "cell_type": "markdown",
   "metadata": {},
   "source": [
    "* 解法二\n",
    "\n",
    "**2.4 我的代码改进**\n",
    "#### 3、相关知识讲解"
   ]
  },
  {
   "cell_type": "code",
   "execution_count": 2,
   "metadata": {},
   "outputs": [
    {
     "data": {
      "text/plain": [
       "2"
      ]
     },
     "execution_count": 2,
     "metadata": {},
     "output_type": "execute_result"
    }
   ],
   "source": [
    "lis = [[1,2],[3,5]]\n",
    "len(lis)"
   ]
  },
  {
   "cell_type": "code",
   "execution_count": null,
   "metadata": {},
   "outputs": [],
   "source": []
  }
 ],
 "metadata": {
  "kernelspec": {
   "display_name": "py3",
   "language": "python",
   "name": "python36"
  },
  "language_info": {
   "codemirror_mode": {
    "name": "ipython",
    "version": 3
   },
   "file_extension": ".py",
   "mimetype": "text/x-python",
   "name": "python",
   "nbconvert_exporter": "python",
   "pygments_lexer": "ipython3",
   "version": "3.6.9"
  }
 },
 "nbformat": 4,
 "nbformat_minor": 2
}
