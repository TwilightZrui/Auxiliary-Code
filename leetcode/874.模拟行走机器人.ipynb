{
 "cells": [
  {
   "cell_type": "markdown",
   "metadata": {},
   "source": [
    "#### 目录\n",
    "* 原题描述  874.模拟行走机器人\n",
    "* 第一遍解法 \n",
    "* 网上解法\n",
    "* 优化自己的代码\n",
    "* 第二遍解法 \n",
    "\n",
    "#### 1. 问题描述\n",
    "机器人在一个无限大小的网格上行走，从点 (0, 0) 处开始出发，面向北方。该机器人可以接收以下三种类型的命令：\n",
    "\n",
    "* -2：向左转 90 度\n",
    "* -1：向右转 90 度\n",
    "* 1 <= x <= 9：向前移动 x 个单位长度\n",
    "在网格上有一些格子被视为障碍物。 \n",
    "\n",
    "第 i 个障碍物位于网格点  (obstacles[i][0], obstacles[i][1])\n",
    "\n",
    "如果机器人试图走到障碍物上方，那么它将停留在障碍物的前一个网格方块上，但仍然可以继续该路线的其余部分。\n",
    "\n",
    "返回从原点到机器人的最大欧式距离的平方\n",
    "\n",
    "\n",
    "* 示例 1：\n",
    "\n",
    ">输入: commands = [4,-1,3], obstacles = []  \n",
    "输出: 25   \n",
    "解释: 机器人将会到达 (3, 4)\n",
    "\n",
    "* 示例 2：\n",
    "\n",
    "> 输入: commands = [4,-1,4,-2,4], obstacles = [[2,4]]   \n",
    "输出: 65   \n",
    "解释: 机器人在左转走到 (1, 8) 之前将被困在 (1, 4) 处\n",
    "\n",
    "#### 2、我的第一次解法 12.15\n",
    "\n",
    "**2.1 思路**\n",
    "这些题目给我的感觉真的很像数学题，然后我觉得这道题有点难kkk，本质要解读这些题目背后的意义\n",
    "* 这题我不会，没有思路，\n",
    "\n",
    "**2.2 代码尝试**\n"
   ]
  },
  {
   "cell_type": "code",
   "execution_count": null,
   "metadata": {},
   "outputs": [],
   "source": [
    "# 无"
   ]
  },
  {
   "cell_type": "markdown",
   "metadata": {},
   "source": [
    "**2.3 正确代码解析**\n",
    "* 解法一\n",
    "``` python\n",
    "\n",
    "\n",
    "class Solution(object):\n",
    "    def robotSim(self, commands, obstacles):\n",
    "        # 首先，把机器人的行动一步一步的模拟\n",
    "        # 本质上，就是xy轴的正负运动\n",
    "        dx = [0, 1, 0, -1]\n",
    "        dy = [1, 0, -1, 0]\n",
    "        x = y = di = 0\n",
    "        # 同时将 每个障碍物的坐标变为数组结构\n",
    "        obstacleSet = set(map(tuple, obstacles))\n",
    "        # 本题的陷阱还有一个 不是返回最终的欧式距离，是返回机器人可以到达的最远欧式距离，所以每到一步都需要比较计算欧式距离\n",
    "        ans = 0\n",
    "        for cmd in commands:\n",
    "            if cmd == -2:  #left\n",
    "                di = (di - 1) % 4  # 第一次左转，dx=-1，dy=0，第二次左转dx=0，dy=-1，第三次左转dx=1，dy=0，第四次左转dx=0，dy=1 循环下去\n",
    "            elif cmd == -1:  #right\n",
    "                di = (di + 1) % 4\n",
    "                # 这里的4是因为 按照4次转向是一次循环，di+1或者di-1 看自己设置的dx dy形式\n",
    "            else:\n",
    "                for k in xrange(cmd):\n",
    "                    if (x+dx[di], y+dy[di]) not in obstacleSet: #判断前进的方向有没有障碍\n",
    "                        x += dx[di]\n",
    "                        y += dy[di]\n",
    "                        ans = max(ans, x*x + y*y)\n",
    "\n",
    "\n",
    "\n",
    "```\n",
    "\n",
    "总结一下：\n",
    "模拟行走步数关键是方向前进的步数\n",
    "第一步：将步数分割成一步\n",
    "第二步：判断转向\n",
    "第三部：判断前方是否有障碍\n",
    "\n",
    "* 解法二\n",
    "\n",
    "**2.4 我的代码改进**\n"
   ]
  },
  {
   "cell_type": "code",
   "execution_count": 3,
   "metadata": {},
   "outputs": [
    {
     "data": {
      "text/plain": [
       "1"
      ]
     },
     "execution_count": 3,
     "metadata": {},
     "output_type": "execute_result"
    }
   ],
   "source": [
    "-1 % 4\n",
    "-2 % 4\n",
    "1%4"
   ]
  },
  {
   "cell_type": "markdown",
   "metadata": {},
   "source": [
    "#### 3、相关知识讲解\n",
    "truple 元组\n",
    "\n",
    "##### 3.1 map()\n",
    "\n",
    "map(function, 序列1，序列2)\n",
    "\n",
    "对序列1，序列2做function操作\n",
    "\n",
    "##### 3.2 set()\n",
    "\n",
    "set()\n",
    "返回 无序不重复 的元素序列\n",
    "\n"
   ]
  },
  {
   "cell_type": "code",
   "execution_count": 15,
   "metadata": {},
   "outputs": [
    {
     "name": "stdout",
     "output_type": "stream",
     "text": [
      "<map object at 0x10920f9b0>\n"
     ]
    }
   ],
   "source": [
    "import numpy as np\n",
    "b = map(np.square(2),[1,2])\n",
    "print(b)"
   ]
  },
  {
   "cell_type": "code",
   "execution_count": 5,
   "metadata": {},
   "outputs": [
    {
     "name": "stdout",
     "output_type": "stream",
     "text": [
      "{'b', 'd', 'r', 'c', 'a'}\n"
     ]
    }
   ],
   "source": [
    "a = set('abracadabra')\n",
    "print(a)"
   ]
  }
 ],
 "metadata": {
  "kernelspec": {
   "display_name": "py3",
   "language": "python",
   "name": "python36"
  },
  "language_info": {
   "codemirror_mode": {
    "name": "ipython",
    "version": 3
   },
   "file_extension": ".py",
   "mimetype": "text/x-python",
   "name": "python",
   "nbconvert_exporter": "python",
   "pygments_lexer": "ipython3",
   "version": "3.6.9"
  }
 },
 "nbformat": 4,
 "nbformat_minor": 2
}
