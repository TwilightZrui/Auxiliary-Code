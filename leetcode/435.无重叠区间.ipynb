{
 "cells": [
  {
   "cell_type": "markdown",
   "metadata": {},
   "source": [
    "#### 目录\n",
    "* 原题描述   435.无重叠区间\n",
    "* 第一遍解法 \n",
    "* 网上解法\n",
    "* 优化自己的代码\n",
    "* 第二遍解法 \n",
    "\n",
    "#### 1. 问题描述\n",
    "\n",
    "给定一个区间的集合，找到需要移除区间的最小数量，使剩余区间互不重叠。\n",
    "\n",
    "注意:\n",
    "\n",
    "可以认为区间的终点总是大于它的起点。\n",
    "区间 [1,2] 和 [2,3] 的边界相互“接触”，但没有相互重叠。\n",
    "\n",
    "* 示例 1:\n",
    "\n",
    ">输入: [ [1,2], [2,3], [3,4], [1,3] ]  \n",
    "输出: 1    \n",
    "解释: 移除 [1,3] 后，剩下的区间没有重叠。\n",
    "\n",
    "* 示例 2:\n",
    "\n",
    ">输入: [ [1,2], [1,2], [1,2] ]    \n",
    "输出: 2     \n",
    "解释: 你需要移除两个 [1,2] 来使剩下的区间没有重叠。\n",
    "\n",
    "\n",
    "* 示例 3:\n",
    "\n",
    ">输入: [ [1,2], [2,3] ] \n",
    "输出: 0     \n",
    "解释: 你不需要移除任何区间，因为它们已经是无重叠的了。\n",
    "\n",
    "\n",
    "#### 2、我的第一次解法 12.26\n",
    "\n",
    "**2.1 思路**\n",
    "\n",
    "\n",
    "* 1、按终点排序 \n",
    "* 2、第二个数的起点小于第一个的终点时，删除第二个区间\n",
    "* 3、第二个数的起点大于等于第一个终点是，end换成第二个数的终点，继续比较\n",
    "\n",
    "类似于射气球的题目 452\n",
    "\n",
    "\n",
    "**2.2 代码尝试**\n",
    "\n",
    "\n"
   ]
  },
  {
   "cell_type": "code",
   "execution_count": null,
   "metadata": {},
   "outputs": [],
   "source": [
    "class Solution:\n",
    "    def eraseOverlapIntervals(self, intervals: List[List[int]]) -> int:\n",
    "\n",
    "        ##思路\n",
    "        ##1、按终点排序  2、第二个数的起点小于第二个的终点时，删除第二个区间\n",
    "        ## 类似于射气球的题目\n",
    "        intervals.sort(key = lambda x:x[1])\n",
    "        print(intervals)\n",
    "        result = 0\n",
    "        if len(intervals) <=1:\n",
    "            return(0)\n",
    "        end = intervals[0][1]\n",
    "        for i in range(1,len(intervals)):\n",
    "            if intervals[i][0] < end:\n",
    "                result +=1\n",
    "            else:\n",
    "                end = intervals[i][1]\n",
    "        return(result)\n",
    "    \n",
    "### 解析正确，待优化"
   ]
  },
  {
   "cell_type": "markdown",
   "metadata": {},
   "source": [
    "**2.3 正确代码解析**\n",
    "\n",
    "**2.4 我的代码改进**\n",
    "#### 3、相关知识讲解"
   ]
  },
  {
   "cell_type": "code",
   "execution_count": null,
   "metadata": {},
   "outputs": [],
   "source": [
    "intervals\n",
    "intervals.sort(key = lambda x:x[0])\n",
    "print(intervals)\n",
    "result = 0\n",
    "end = intervals[0][1]\n",
    "for inter in intervals:\n",
    "    if inter[0] < end:\n",
    "        result +=1\n",
    "    else:\n",
    "        end = inter[1]\n",
    "return(result)"
   ]
  }
 ],
 "metadata": {
  "kernelspec": {
   "display_name": "py3",
   "language": "python",
   "name": "python36"
  },
  "language_info": {
   "codemirror_mode": {
    "name": "ipython",
    "version": 3
   },
   "file_extension": ".py",
   "mimetype": "text/x-python",
   "name": "python",
   "nbconvert_exporter": "python",
   "pygments_lexer": "ipython3",
   "version": "3.6.9"
  }
 },
 "nbformat": 4,
 "nbformat_minor": 2
}
