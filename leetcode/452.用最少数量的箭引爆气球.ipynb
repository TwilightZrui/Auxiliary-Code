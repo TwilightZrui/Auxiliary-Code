{
 "cells": [
  {
   "cell_type": "markdown",
   "metadata": {},
   "source": [
    "#### 目录\n",
    "* 原题描述 452.用最少数量的箭引爆气球 \n",
    "* 第一遍解法 \n",
    "* 网上解法\n",
    "* 优化自己的代码\n",
    "* 第二遍解法 \n",
    "\n",
    "#### 1. 问题描述\n",
    "\n",
    "贪心算法\n",
    "\n",
    "在二维空间中有许多球形的气球。对于每个气球，提供的输入是水平方向上，气球直径的开始和结束坐标。由于它是水平的，所以y坐标并不重要，因此只要知道开始和结束的x坐标就足够了。开始坐标总是小于结束坐标。平面内最多存在104个气球。\n",
    "\n",
    "一支弓箭可以沿着x轴从不同点完全垂直地射出。在坐标x处射出一支箭，若有一个气球的直径的开始和结束坐标为 xstart，xend， 且满足  xstart ≤ x ≤ xend，则该气球会被引爆。可以射出的弓箭的数量没有限制。 弓箭一旦被射出之后，可以无限地前进。我们想找到使得所有气球全部被引爆，所需的弓箭的最小数量。\n",
    "\n",
    "\n",
    ">输入: \n",
    "[[10,16], [2,8], [1,6], [7,12]]   \n",
    "输出:  \n",
    "2     \n",
    "解释:\n",
    "对于该样例，我们可以在x = 6（射爆[2,8],[1,6]两个气球）和 x = 11（射爆另外两个气球）\n",
    "\n",
    "\n",
    "#### 2、我的第一次解法 12.23\n",
    "\n",
    "**2.1 思路**\n",
    "\n",
    "* 先按 气球的起点排序\n",
    "* 遍历 以第一个气球为基准 判断第二个气球是否跟第一个相交 \n",
    "* 第三个跟 相交部分是否相交 不相交 则基准的气球改为第三个气球"
   ]
  },
  {
   "cell_type": "markdown",
   "metadata": {},
   "source": [
    "**2.2 代码尝试**"
   ]
  },
  {
   "cell_type": "code",
   "execution_count": null,
   "metadata": {},
   "outputs": [],
   "source": [
    "class Solution:\n",
    "    def findMinArrowShots(self, points: List[List[int]]) -> int:\n",
    "        result =1\n",
    "        points.sort(key = lambda x :[x[0],x[1]])\n",
    "        print(points)\n",
    "        if len(points) > 0:\n",
    "            base = points[0]\n",
    "        else:\n",
    "            return('0')\n",
    "        for i in range(1,len(points)):\n",
    "            if points[i][0] <= base[1]: ##两个气球相交\n",
    "                base =[max(points[i][0],base[0]),min(base[1],points[i][1])]  #比较基准变为base       \n",
    "            else :\n",
    "                base = points[i]\n",
    "                result +=1\n",
    "           \n",
    "            print(result)\n",
    "        return(result)\n",
    "\n",
    "\n",
    "            \n",
    "\n",
    "                \n",
    "## 通是通过了 但是运行速度慢，内存占用高 不是最优解"
   ]
  },
  {
   "cell_type": "markdown",
   "metadata": {},
   "source": [
    "**2.3 正确代码解析**\n",
    "* 解法一\n",
    "\n",
    "**贪心算法**\n",
    "\n",
    "贪心算法一般用来解决“找到做某事的最小数量”和“某些情况下的适合的最大物品数量”  -最优解的问题\n",
    "\n",
    "先对数据进行排序，\n",
    "\n",
    "跟踪气球的结束坐标，若下个气球开始坐标在当前气球的结束坐标前，则我们可以用一支箭一起引爆；\n",
    "\n",
    "若下个气球的开始坐标在当前气球的结束坐标后，则我们必须增加箭的数量。\n",
    "\n",
    "并跟踪下个气球的结束坐标。\n",
    "\n",
    "（我的思路，多考虑了三个气球相交的情况，但是其实只需考虑结束坐标，因为一旦超过结束坐标，即使相交也无法用一支箭引爆）\n",
    "\n",
    "* 算法\n",
    "\n",
    "\n",
    "> * 根据 x_end 将气球进行排序。    \n",
    "> * 初始化 first_end 为第一个气球结束的坐标 points[0][1]。   \n",
    "> * 初始化箭的数量 arrows = 1。    \n",
    "> * 遍历所有的气球：  \n",
    "        如果气球的开始坐标大于 first_end：  \n",
    "           则增加箭的数量。         \n",
    "           将 first_end 设置为当前气球的 x_end。 \n",
    "> * 返回 arrows。\n",
    "\n",
    "```python\n",
    "class Solution:\n",
    "    def findMinArrowShots(self, points: List[List[int]]) -> int:\n",
    "        if not points:\n",
    "            return 0\n",
    "        \n",
    "        # sort by x_end\n",
    "        points.sort(key = lambda x : x[1])\n",
    "        \n",
    "        arrows = 1\n",
    "        first_end = points[0][1]\n",
    "        for x_start, x_end in points:\n",
    "            # if the current balloon starts after the end of another one,\n",
    "            # one needs one more arrow\n",
    "            if first_end < x_start:\n",
    "                arrows += 1\n",
    "                first_end = x_end\n",
    "        \n",
    "        return arrows\n",
    "\n",
    "```\n",
    "* 解法二\n"
   ]
  },
  {
   "cell_type": "markdown",
   "metadata": {},
   "source": [
    "**2.4 我的代码改进**\n",
    "#### 3、相关知识讲解"
   ]
  }
 ],
 "metadata": {
  "kernelspec": {
   "display_name": "py3",
   "language": "python",
   "name": "python36"
  },
  "language_info": {
   "codemirror_mode": {
    "name": "ipython",
    "version": 3
   },
   "file_extension": ".py",
   "mimetype": "text/x-python",
   "name": "python",
   "nbconvert_exporter": "python",
   "pygments_lexer": "ipython3",
   "version": "3.6.9"
  }
 },
 "nbformat": 4,
 "nbformat_minor": 2
}
