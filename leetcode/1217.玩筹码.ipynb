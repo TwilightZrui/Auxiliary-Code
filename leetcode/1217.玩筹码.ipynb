{
 "cells": [
  {
   "cell_type": "markdown",
   "metadata": {},
   "source": [
    "#### 目录\n",
    "* 原题描述 1217.玩筹码\n",
    "* 第一遍解法 12/10\n",
    "* 网上解法\n",
    "* 优化自己的代码\n",
    "* 第二遍解法 \n",
    "\n",
    "#### 1. 问题描述\n",
    "\n",
    "**题目分类：** 贪心算法？？感觉想个数学题\n",
    "\n",
    "数轴上放置了一些筹码，每个筹码的位置存在数组 chips 当中。\n",
    "\n",
    "你可以对 任何筹码 执行下面两种操作之一（不限操作次数，0 次也可以）：\n",
    "\n",
    "将第 i 个筹码向左或者右移动 2 个单位，代价为 0。\n",
    "将第 i 个筹码向左或者右移动 1 个单位，代价为 1。\n",
    "最开始的时候，同一位置上也可能放着两个或者更多的筹码。\n",
    "\n",
    "返回将所有筹码移动到同一位置（任意位置）上所需要的最小代价。\n",
    "\n",
    " \n",
    "\n",
    "示例 1：\n",
    "\n",
    ">输入：chips = [1,2,3]   \n",
    "输出：1  \n",
    "解释：第二个筹码移动到位置三的代价是 1，第一个筹码移动到位置三的代价是 0，总代价为 1。\n",
    "\n",
    "示例 2：\n",
    "\n",
    ">输入：chips = [2,2,2,3,3]  \n",
    "输出：2   \n",
    "解释：第四和第五个筹码移动到位置二的代价都是 1，所以最小总代价为 2。\n",
    "\n",
    "\n",
    "#### 2、我的第一次解法 12.10\n",
    "\n",
    "**2.1 思路**\n",
    "\n",
    "* 判断怎么移动，假设移动到第一个位置 ，取数组所有数和第一个数的差／2，刚好乘除就代价为0，整除余1就是代价为1，相加得总代价\n",
    "* return 移动到每个位置的的代价最小值\n",
    "\n",
    "**2.2 代码尝试**"
   ]
  },
  {
   "cell_type": "code",
   "execution_count": null,
   "metadata": {},
   "outputs": [],
   "source": [
    "class Solution:\n",
    "    def minCostToMoveChips(self, chips: List[int]) -> int:\n",
    "        sums = {}\n",
    "        for i in range(len(chips)):\n",
    "            sum = 0\n",
    "            for j in range(len(chips)):\n",
    "                dif = abs(chips[j] - chips[i])%2\n",
    "                sum +=dif\n",
    "                sums[i] = sum\n",
    "        val = sorted(sums.values())\n",
    "        return(val[0])"
   ]
  },
  {
   "cell_type": "markdown",
   "metadata": {},
   "source": [
    "我的代码解析\n",
    "\n",
    "get的新知识：\n",
    "* 对字典排序 sum={1:2,2:3,3:3}\n",
    "  对键排序 sorted(sum)\n",
    "  对值排序 sorted(sums.values())\n",
    "\n",
    "**2.3 网上代码解析 **\n",
    "\n",
    "优秀解法：\n",
    "\n",
    "奇数移动到奇数位置是没有消耗的，\n",
    "偶数移动到偶数位置也是没有消耗的，\n",
    "\n",
    "问题本质是计算奇数个数和偶数个数，然后奇数位到偶数位的代价位1\n",
    "\n",
    "**代码示例**"
   ]
  },
  {
   "cell_type": "code",
   "execution_count": null,
   "metadata": {},
   "outputs": [],
   "source": [
    "class Solution:\n",
    "    def minCostToMoveChips(self, chips: List[int]) -> int:\n",
    "        even = 0\n",
    "        for c in chips:\n",
    "            if c&1==0:\n",
    "                even+=1\n",
    "        return min(even,len(chips)-even)\n"
   ]
  },
  {
   "cell_type": "markdown",
   "metadata": {},
   "source": [
    "**我的代码优化 **"
   ]
  },
  {
   "cell_type": "code",
   "execution_count": null,
   "metadata": {},
   "outputs": [],
   "source": [
    "class Solution:\n",
    "    def minCostToMoveChips(self, chips: List[int]) -> int:\n",
    "        odd = 0\n",
    "        for c in chips:\n",
    "            if c% 2==1:\n",
    "                odd+=1\n",
    "        return min(odd,len(chips)-odd)\n"
   ]
  }
 ],
 "metadata": {
  "kernelspec": {
   "display_name": "py3",
   "language": "python",
   "name": "python36"
  },
  "language_info": {
   "codemirror_mode": {
    "name": "ipython",
    "version": 3
   },
   "file_extension": ".py",
   "mimetype": "text/x-python",
   "name": "python",
   "nbconvert_exporter": "python",
   "pygments_lexer": "ipython3",
   "version": "3.6.9"
  }
 },
 "nbformat": 4,
 "nbformat_minor": 2
}
