{
 "cells": [
  {
   "cell_type": "markdown",
   "metadata": {},
   "source": [
    "#### 目录\n",
    "* 原题描述   738. 单调递增的数字\n",
    "* 第一遍解法 \n",
    "* 网上解法\n",
    "* 优化自己的代码\n",
    "* 第二遍解法 \n",
    "\n",
    "#### 1. 问题描述\n",
    "\n",
    "给定一个非负整数 N，找出小于或等于 N 的最大的整数，同时这个整数需要满足其各个位数上的数字是单调递增。\n",
    "\n",
    "（当且仅当每个相邻位数上的数字 x 和 y 满足 x <= y 时，我们称这个整数是单调递增的。）\n",
    "\n",
    "* 示例 1:\n",
    "\n",
    ">输入: N = 10 \n",
    "输出: 9\n",
    "\n",
    "* 示例 2:\n",
    "\n",
    ">输入: N = 1234 \n",
    "输出: 1234\n",
    "\n",
    "* 示例 3:\n",
    "\n",
    ">输入: N = 332 \n",
    "输出: 299\n",
    "\n",
    "#### 2、我的第一次解法 12.27\n",
    "\n",
    "**2.1 思路**\n",
    "\n",
    "* 直接从前往后遍历 \n",
    "* 遇见N[i]>N[i+1]，则N[i]=N[i]-1,N[i]后面的都变成9\n"
   ]
  },
  {
   "cell_type": "code",
   "execution_count": null,
   "metadata": {},
   "outputs": [],
   "source": [
    "class Solution:\n",
    "    def monotoneIncreasingDigits(self, N: int) -> int:\n",
    "        ## 直接从前往后遍历 遇见N[i]>N[i+1]，则N[i]=N[i]-1,N[i]后面的都变成9\n",
    "        nums = [int(x) for x in str(N)]\n",
    "        for i in range(0,len(nums)-1):\n",
    "            if nums[i]==nums[i+1] and nums[i+1]>nums[i+2]:\n",
    "                nums[i]=nums[i]-1\n",
    "                for j in range(i+1,len(nums)): ##切片赋值S[i+1:] = '9' * (len(S) - i-1)\n",
    "                    nums[j]=9\n",
    "                break\n",
    "            elif nums[i]> nums[i+1]:\n",
    "                nums[i]=nums[i]-1\n",
    "                for j in range(i+1,len(nums)):\n",
    "                    nums[j]=9\n",
    "                break           \n",
    "        #print(nums)\n",
    "        lent=len(nums)\n",
    "        result=0\n",
    "        for i,num in enumerate(nums):\n",
    "       #print(i,num)\n",
    "            result+=num*(10**(lent-i-1))\n",
    "        return(result)\n",
    "\n",
    "\n",
    "### 逻辑有漏洞\n",
    "##  999998 没有通过\n"
   ]
  },
  {
   "cell_type": "markdown",
   "metadata": {},
   "source": [
    "**2.2 代码尝试**\n",
    "\n",
    "**方法一**\n",
    "\n",
    "按位构造数字，\n",
    "\n",
    "以N=9998举例：\n",
    "\n",
    "* 首先构建第一位数字，i=1，从1～9选择一个数字，作为所有位的数字，这个过程是在寻找最接近N的最大数 \n",
    "* 其中9999>9998，则第一位数字选择 9-1 =8\n",
    "* 继续选择第二位数字，比较8111，8222，8333，8444，……，8999 和9998的大小，所有的数都小于N，则此位选择最大数9\n",
    "* 继续遍历 最终得到结果\n",
    "\n",
    "\n",
    "```python\n",
    "\n",
    "class Solution(object):\n",
    "    def monotoneIncreasingDigits(self, N):\n",
    "        digits = []\n",
    "        A  = [int(x) for x in str(N)] ##将字符串 变为list\n",
    "        for i in range(len(A)):\n",
    "            for d in range(1, 10):\n",
    "                if digits + [d] * (len(A)-i) > A:\n",
    "                    digits.append(d-1)\n",
    "                    break\n",
    "            else:\n",
    "                digits.append(9)\n",
    "\n",
    "        return int(\"\".join(map(str, digits)))\n",
    "\n",
    "```\n",
    "\n",
    "\n",
    "**方法二**\n",
    "\n",
    "我的思路类似于方法二的思路，但是我的解法有逻辑漏洞就是9998这类数据\n",
    "\n",
    "* 遍历数字，遇见N[i]>N[i+1]，则N[i]=N[i]-1,N[i]后面的都变成9\n",
    "* 当数字是 123454321 时，我们可以有一个 123449999 的候选候选答案\n",
    "\n",
    "* 但是如果 n=333222，那么我们的策略将给出 332999 的候选答案，但这不是单调递增的\n",
    "\n",
    "* 因此需要通过线性扫描得到最终答案332999->329999->299999\n",
    "\n",
    "\n",
    "```python\n",
    "\n",
    "class Solution(object):\n",
    "    def monotoneIncreasingDigits(self, N):\n",
    "        S = list(str(N))\n",
    "        i = 1\n",
    "        while i < len(S) and S[i-1] <= S[i]:\n",
    "            i += 1\n",
    "        while 0 < i < len(S) and S[i-1] > S[i]:\n",
    "            S[i-1] = str(int(S[i-1]) - 1)\n",
    "            i -= 1 ##当遇到需要减1的数字后，再把遍历往回调，再遍历一次\n",
    "        S[i+1:] = '9' * (len(S) - i-1)\n",
    "        return int(\"\".join(S))\n",
    "\n",
    "```\n"
   ]
  },
  {
   "cell_type": "markdown",
   "metadata": {},
   "source": [
    "**2.3 正确代码解析**\n",
    "\n",
    "**2.4 我的代码改进**\n",
    "#### 3、相关知识讲解"
   ]
  },
  {
   "cell_type": "code",
   "execution_count": null,
   "metadata": {},
   "outputs": [],
   "source": []
  },
  {
   "cell_type": "code",
   "execution_count": 4,
   "metadata": {},
   "outputs": [
    {
     "data": {
      "text/plain": [
       "[0, 0, 0, 0]"
      ]
     },
     "execution_count": 4,
     "metadata": {},
     "output_type": "execute_result"
    }
   ],
   "source": [
    "d=0\n",
    "[d] * (5-1)"
   ]
  },
  {
   "cell_type": "code",
   "execution_count": 6,
   "metadata": {},
   "outputs": [
    {
     "name": "stdout",
     "output_type": "stream",
     "text": [
      "1\n",
      "2\n",
      "3\n",
      "4\n",
      "5\n",
      "6\n",
      "7\n",
      "8\n",
      "9\n"
     ]
    }
   ],
   "source": [
    "for i in range(1, 10):\n",
    "    print(i)"
   ]
  },
  {
   "cell_type": "code",
   "execution_count": null,
   "metadata": {},
   "outputs": [],
   "source": []
  }
 ],
 "metadata": {
  "kernelspec": {
   "display_name": "py3",
   "language": "python",
   "name": "python36"
  },
  "language_info": {
   "codemirror_mode": {
    "name": "ipython",
    "version": 3
   },
   "file_extension": ".py",
   "mimetype": "text/x-python",
   "name": "python",
   "nbconvert_exporter": "python",
   "pygments_lexer": "ipython3",
   "version": "3.6.9"
  }
 },
 "nbformat": 4,
 "nbformat_minor": 2
}
