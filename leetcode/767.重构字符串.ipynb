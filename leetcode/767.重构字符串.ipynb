{
 "cells": [
  {
   "cell_type": "markdown",
   "metadata": {},
   "source": [
    "#### 目录\n",
    "* 原题描述   767.重构字符串\n",
    "* 第一遍解法 \n",
    "* 网上解法\n",
    "* 优化自己的代码\n",
    "* 第二遍解法 \n",
    "\n",
    "#### 1. 问题描述\n",
    "\n",
    "字符串、贪心算法\n",
    "给定一个字符串S，检查是否能重新排布其中的字母，使得两相邻的字符不同。\n",
    "\n",
    "若可行，输出任意可行的结果。若不可行，返回空字符串。\n",
    "\n",
    "示例 1:\n",
    "\n",
    "输入: S = \"aab\"\n",
    "输出: \"aba\"\n",
    "示例 2:\n",
    "\n",
    "输入: S = \"aaab\"\n",
    "输出: \"\"\n",
    "\n",
    "#### 2、我的第一次解法 2020.01.02\n",
    "\n",
    "**2.1 思路**\n",
    "\n",
    "\n",
    "* 字符串，贪心算法\n",
    "* n个相同 的字符a 需要n-1个字符隔开 ，只需要剩下字符的个数>=n-1就可以分割\n",
    "* 卡点：返回可行的结果\n",
    "\n",
    "**2.2 代码尝试**"
   ]
  },
  {
   "cell_type": "markdown",
   "metadata": {},
   "source": [
    "class Solution:\n",
    "    def reorganizeString(self, S: str) -> str:\n",
    "\n",
    "        ## 字符串，贪心算法\n",
    "        # n个相同 的字符a 需要n-1个字符隔开 ，只需要剩下字符的个数>=n-1就可以分割\n",
    "        # 卡点：返回可行的结果\n",
    "        ## 尝试用双指针的方法解答\n",
    "        S=sorted(list(S))\n",
    "        print(S)\n",
    "        result=[]\n",
    "        i,j=0,len(S)-1\n",
    "        while i<=j and i<len(S):\n",
    "            if S[i]!=S[j]:\n",
    "                result.append(S[i])\n",
    "                result.append(S[j])\n",
    "                i+=1\n",
    "                j-=1\n",
    "        print(result)\n"
   ]
  },
  {
   "cell_type": "markdown",
   "metadata": {},
   "source": [
    "**2.3 正确代码解析**\n",
    "\n",
    "\n",
    "```python\n",
    "class Solution(object):\n",
    "    def reorganizeString(self, S):\n",
    "        N = len(S)\n",
    "        A = []\n",
    "        # for x in set(S)) 从S遍历字符x\n",
    "        # \n",
    "        for c, x in sorted((S.count(x), x) for x in set(S)) : ## 计数\n",
    "            \n",
    "            if c > (N+1)/2: return \"\"  ##有任何一个字符的数目大于 字符长度的一半时 返回空\n",
    "            A.extend(c * x)\n",
    "        ans = [None] * N\n",
    "        ans[::2], ans[1::2] = A[N/2:], A[:N/2] ##x[startAt:endBefore:skip] #间隔取数\n",
    "        return \"\".join(ans)\n",
    "\n",
    "```\n",
    "\n",
    "**2.4 我的代码改进**\n",
    "#### 3、相关知识讲解\n",
    "\n",
    "计数+排序"
   ]
  },
  {
   "cell_type": "code",
   "execution_count": 14,
   "metadata": {},
   "outputs": [
    {
     "name": "stdout",
     "output_type": "stream",
     "text": [
      "[(6, 'q'), (1, 'a'), (2, 'b')]\n",
      "[(1, 'a'), (2, 'b'), (6, 'q')]\n"
     ]
    }
   ],
   "source": [
    "\n",
    "\n",
    "S='bbaqqqqqq'\n",
    "x=[(S.count(x), x) for x in set(S)]\n",
    "y=sorted(x)\n",
    "\n",
    "print(x)\n",
    "print(y)"
   ]
  },
  {
   "cell_type": "code",
   "execution_count": 10,
   "metadata": {},
   "outputs": [
    {
     "data": {
      "text/plain": [
       "2"
      ]
     },
     "execution_count": 10,
     "metadata": {},
     "output_type": "execute_result"
    }
   ],
   "source": [
    "S.count('b')"
   ]
  },
  {
   "cell_type": "code",
   "execution_count": null,
   "metadata": {},
   "outputs": [],
   "source": []
  }
 ],
 "metadata": {
  "kernelspec": {
   "display_name": "py3",
   "language": "python",
   "name": "python36"
  },
  "language_info": {
   "codemirror_mode": {
    "name": "ipython",
    "version": 3
   },
   "file_extension": ".py",
   "mimetype": "text/x-python",
   "name": "python",
   "nbconvert_exporter": "python",
   "pygments_lexer": "ipython3",
   "version": "3.6.9"
  }
 },
 "nbformat": 4,
 "nbformat_minor": 2
}
