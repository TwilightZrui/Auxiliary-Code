{
 "cells": [
  {
   "cell_type": "markdown",
   "metadata": {},
   "source": [
    "#### 目录\n",
    "* 原题描述   881.救生艇\n",
    "* 第一遍解法 \n",
    "* 网上解法\n",
    "* 优化自己的代码\n",
    "* 第二遍解法 \n",
    "\n",
    "#### 1. 问题描述\n",
    "\n",
    "双指针，贪心算法\n",
    "\n",
    "\n",
    "\n",
    "#### 2、我的第一次解法 12.26\n",
    "\n",
    "**2.1 思路**\n",
    "\n",
    "\n",
    "* 按顺序装，先装第一个人，然后遍历后面的位置，看有没有可以坐下的\n",
    "* 题目给了条件是最多载两人\n",
    "\n",
    "\n",
    "**2.2 代码尝试**"
   ]
  },
  {
   "cell_type": "code",
   "execution_count": null,
   "metadata": {},
   "outputs": [],
   "source": [
    "class Solution:\n",
    "    def numRescueBoats(self, people: List[int], limit: int) -> int:\n",
    "\n",
    "        people.sort()\n",
    "        #print(people)\n",
    "        result=0\n",
    "        for p in people:\n",
    "            #print('p',p)\n",
    "            if p <limit:\n",
    "                for j in range(len(people)-1,people.index(p),-1):\n",
    "                    if p +people[j]<=limit:\n",
    "                        #print('j',people[j])\n",
    "                        people.pop(j)\n",
    "                        break\n",
    "            result+=1\n",
    "            t=people.index(p)\n",
    "            people[t]=0   \n",
    "        return(result)\n",
    "    \n",
    "##卡点: 返回索引的函数 碰到相同的数字返回的索引就不对了，但是不用索引，又会因为索引\n",
    "##卡点解决：因为不需要返回分组详情，每次遍历把遍历过的数值变为0\n",
    "##卡点2:超过时间设置\n",
    "\n"
   ]
  },
  {
   "cell_type": "markdown",
   "metadata": {},
   "source": [
    "**2.3 正确代码解析**\n",
    "\n",
    "双指针（这里我有想到，但是代码写的太烂了，没有实现）\n",
    "\n",
    "* 最重的人和最轻的人配对\n",
    "\n",
    "* 双指针，令 people[i] 指向当前最轻的人，而 people[j] 指向最重的那位\n",
    "\n",
    "* 最重的人可以和最轻的人共用一条船即 people[j] + people[i] <= limit）；最重的人独自坐船\n",
    "\n",
    "```python\n",
    "\n",
    "class Solution(object):\n",
    "    def numRescueBoats(self, people, limit):\n",
    "        people.sort()\n",
    "        i, j = 0, len(people) - 1\n",
    "        ans = 0\n",
    "        while i <= j:\n",
    "            ans += 1\n",
    "            if people[i] + people[j] <= limit:\n",
    "                i += 1\n",
    "            j -= 1\n",
    "        return ans\n",
    "\n",
    "```\n",
    "\n",
    "**2.4 我的代码改进**\n",
    "#### 3、相关知识讲解"
   ]
  }
 ],
 "metadata": {
  "kernelspec": {
   "display_name": "py3",
   "language": "python",
   "name": "python36"
  },
  "language_info": {
   "codemirror_mode": {
    "name": "ipython",
    "version": 3
   },
   "file_extension": ".py",
   "mimetype": "text/x-python",
   "name": "python",
   "nbconvert_exporter": "python",
   "pygments_lexer": "ipython3",
   "version": "3.6.9"
  }
 },
 "nbformat": 4,
 "nbformat_minor": 2
}
