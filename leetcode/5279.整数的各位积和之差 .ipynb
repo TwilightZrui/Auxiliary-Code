{
 "cells": [
  {
   "cell_type": "markdown",
   "metadata": {},
   "source": [
    "#### 目录\n",
    "* 原题描述 5279.整数的各位积和之差\n",
    "* 第一遍解法 12/08\n",
    "* 网上解法\n",
    "* 优化自己的代码\n",
    "* 第二遍解法 \n"
   ]
  },
  {
   "cell_type": "markdown",
   "metadata": {},
   "source": [
    "#### 1、题目描述\n",
    "\n",
    "给你一个整数 n，请你帮忙计算并返回该整数「各位数字之积」与「各位数字之和」的差。\n",
    "\n",
    " \n",
    "\n",
    "示例 1：\n",
    "\n",
    ">输入：n = 234\n",
    "输出：15 \n",
    "解释：\n",
    "各位数之积 = 2 * 3 * 4 = 24 \n",
    "各位数之和 = 2 + 3 + 4 = 9 \n",
    "结果 = 24 - 9 = 15\n",
    "\n",
    "示例 2：\n",
    "\n",
    ">输入：n = 4421\n",
    "输出：21\n",
    "解释： \n",
    "各位数之积 = 4 * 4 * 2 * 1 = 32 \n",
    "各位数之和 = 4 + 4 + 2 + 1 = 11 \n",
    "结果 = 32 - 11 = 21\n",
    " \n",
    "\n",
    "提示：\n",
    "\n",
    "1 <= n <= 10^5\n"
   ]
  },
  {
   "cell_type": "markdown",
   "metadata": {},
   "source": [
    "#### 2、我的第一次解法 12.08\n",
    "\n",
    "**2.1 思路**\n",
    "\n",
    "* 首先需要获得整数个位数，十位数，百位数，方法可以是将整数转为字符串数组\n",
    "  \n",
    "  然后数组中的字符串相加、\n",
    "  相乘等运算。\n",
    "\n",
    "**2.2 代码尝试**"
   ]
  },
  {
   "cell_type": "code",
   "execution_count": 13,
   "metadata": {},
   "outputs": [
    {
     "name": "stdout",
     "output_type": "stream",
     "text": [
      "10 24\n"
     ]
    }
   ],
   "source": [
    "n = 1234\n",
    "a = 0\n",
    "b = 1\n",
    "for i in str(n):\n",
    "    i=int(i)\n",
    "    a+=i\n",
    "    b*=i\n",
    "print(b-a) ## 答案正确，但是这里python的语法错了，应该是return b-a"
   ]
  },
  {
   "cell_type": "markdown",
   "metadata": {},
   "source": [
    "**2.3 正确答案**\n"
   ]
  },
  {
   "cell_type": "code",
   "execution_count": 14,
   "metadata": {},
   "outputs": [],
   "source": [
    "## 类似解法一\n",
    "class Solution:\n",
    "    def subtractProductAndSum(self, n: int) -> int:\n",
    "        he = 0\n",
    "        ji = 1\n",
    "        for i in str(n):\n",
    "            he += int(i)\n",
    "            ji *= int(i)\n",
    "        return ji-he\n",
    "\n",
    "## 精简解法二\n",
    "\n",
    "from functools import reduce\n",
    "class Solution:\n",
    "    def subtractProductAndSum(self, n: int) -> int:\n",
    "        nums = [int(s) for s in str(n)]\n",
    "        return  reduce(lambda a, b : a * b, nums) - reduce(lambda a, b : a + b, nums)\n",
    "\n",
    "## reduce 的运行机制 https://www.maixj.net/ict/python-reduce-13725\n"
   ]
  }
 ],
 "metadata": {
  "kernelspec": {
   "display_name": "py3",
   "language": "python",
   "name": "python36"
  },
  "language_info": {
   "codemirror_mode": {
    "name": "ipython",
    "version": 3
   },
   "file_extension": ".py",
   "mimetype": "text/x-python",
   "name": "python",
   "nbconvert_exporter": "python",
   "pygments_lexer": "ipython3",
   "version": "3.6.9"
  }
 },
 "nbformat": 4,
 "nbformat_minor": 2
}
