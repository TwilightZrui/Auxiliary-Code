{
 "cells": [
  {
   "cell_type": "markdown",
   "metadata": {},
   "source": [
    "#### 目录\n",
    "* 原题描述 1.两数之和\n",
    "* 第一遍解法 12/08\n",
    "* 网上解法\n",
    "* 优化自己的代码\n",
    "* 第二遍解法 \n",
    "\n",
    "#### 1. 问题描述\n",
    "\n",
    "**题目分类：** 数组、哈希表 \n",
    "给定一个整数数组 nums 和一个目标值 target，请你在该数组中找出和为目标值的那 两个 整数，并返回他们的数组下标。\n",
    "\n",
    "你可以假设每种输入只会对应一个答案。但是，你不能重复利用这个数组中同样的元素。\n",
    "\n",
    "示例:\n",
    "\n",
    ">给定 nums = [2, 7, 11, 15], target = 9   \n",
    "因为 nums[0] + nums[1] = 2 + 7 = 9   \n",
    "所以返回 [0, 1]\n"
   ]
  },
  {
   "cell_type": "markdown",
   "metadata": {},
   "source": [
    "#### 2、我的第一次解法 12.08\n",
    "\n",
    "**2.1 思路**\n",
    "\n",
    "* 两个循环遍历相加，返回索引值。\n",
    "* 卡点 索引值和数值不能同时引用\n",
    "\n",
    "**2.2 代码尝试**"
   ]
  },
  {
   "cell_type": "code",
   "execution_count": 32,
   "metadata": {},
   "outputs": [
    {
     "name": "stdout",
     "output_type": "stream",
     "text": [
      "4\n",
      "[3, 3]\n"
     ]
    }
   ],
   "source": [
    "nums = [2, 7, 11, 15]\n",
    "target = 9\n",
    "print(len(nums))\n",
    "for index1 in range(len(nums)):\n",
    "    for index2 in range(len(nums)):\n",
    "        if nums[index1]+nums[index2]== target:\n",
    "            index_1 = index1\n",
    "            index_2 = index2\n",
    "            break\n",
    "        else:\n",
    "            continue\n",
    "print([index1,index2])"
   ]
  },
  {
   "cell_type": "code",
   "execution_count": null,
   "metadata": {},
   "outputs": [],
   "source": [
    "## 我的解法\n",
    "\n",
    "class Solution:\n",
    "    def twoSum(self, nums: List[int], target: int) -> List[int]:\n",
    "        for index1 in range(len(nums)):\n",
    "            for index2 in range(len(nums)):\n",
    "                if nums[index1]+nums[index2]== target:\n",
    "                    index_1 = index1\n",
    "                    index_2 = index2\n",
    "                    break\n",
    "                else:\n",
    "                    continue\n",
    "        return([index_2,index_1]) \n",
    "##解答错误 30分钟到"
   ]
  },
  {
   "cell_type": "markdown",
   "metadata": {},
   "source": [
    "**2.3 题目解析**\n",
    "\n",
    "1、暴力破解法\n",
    "   两层for循环 -- 我的想法\n",
    "   \n",
    "2、哈希表查找\n",
    "   开始遍历元素，每个遍历的数据加入hash表\n",
    "\n",
    "**2.4 示例解法**"
   ]
  },
  {
   "cell_type": "code",
   "execution_count": null,
   "metadata": {},
   "outputs": [],
   "source": [
    "\n",
    "## 解法1.0： 通过hash解决\n",
    "## python中的字典\n",
    "def twoSum(nums, target):\n",
    "    hashmap={}\n",
    "    for ind,num in enumerate(nums):  #enumerate 将可遍历的的数据对象变为带有索引值的遍历对象\n",
    "        hashmap[num] = ind\n",
    "    for i,num in enumerate(nums):\n",
    "        j = hashmap.get(target - num) # dict.get(key, default=None) 查找字典中指定的健\n",
    "        if j is not None and i!=j:\n",
    "            return [i,j]\n",
    "\n",
    "        \n",
    "        \n",
    "## 解法1.1 1.0的改进\n",
    "\n",
    "## 不需要 num2 不需要在整个 dict 中去查找。\n",
    "##可以在 num1 之前的 dict 中查找，因此就只需要一次循环可解决。 \n",
    "## 不需要遍历整个字典就是 视频讲解的hash表的方法\n",
    "\n",
    "def twoSum(nums, target):\n",
    "    hashmap={}\n",
    "    for i,num in enumerate(nums):\n",
    "        if hashmap.get(target - num) is not None:\n",
    "            return [i,hashmap.get(target - num)]\n",
    "        hashmap[num] = i #这句不能放在if语句之前，解决list中有重复值或target-num=num的情况\n",
    "\n",
    "    \n",
    "def two_sum(nums, target):\n",
    "    \"\"\"这样写更直观，遍历列表同时查字典\"\"\"\n",
    "    dct = {}\n",
    "    for i, n in enumerate(nums):\n",
    "        if target - n in dct:\n",
    "            return [dct[target - n], i]\n",
    "        dct[n] = i"
   ]
  },
  {
   "cell_type": "markdown",
   "metadata": {},
   "source": [
    "详解hash法 https://leetcode-cn.com/problems/two-sum/solution/dong-hua-tu-jie-suan-fa-liang-shu-zhi-he-fu-shi-pi/\n",
    "举例说明\n",
    "num = [2,3,7,11]\n",
    "target = 9\n",
    "\n",
    "首先 遍历 num list 将数值num（字典的key）和 索引（字典的value）存储到hash表中（python的字典中）\n",
    "\n",
    "然后判断 target - num 是否在之前的存储的hash表中（只判断之前的是因为遍历到后面的数的时候，再往前判断就可以了，不需要两次查找都遍历整个字典）\n",
    "\n",
    "最后返回正确的值。"
   ]
  }
 ],
 "metadata": {
  "kernelspec": {
   "display_name": "py3",
   "language": "python",
   "name": "python36"
  },
  "language_info": {
   "codemirror_mode": {
    "name": "ipython",
    "version": 3
   },
   "file_extension": ".py",
   "mimetype": "text/x-python",
   "name": "python",
   "nbconvert_exporter": "python",
   "pygments_lexer": "ipython3",
   "version": "3.6.9"
  }
 },
 "nbformat": 4,
 "nbformat_minor": 2
}
