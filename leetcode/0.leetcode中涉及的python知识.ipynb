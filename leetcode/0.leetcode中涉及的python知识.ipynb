{
 "cells": [
  {
   "cell_type": "markdown",
   "metadata": {},
   "source": [
    "## leetcode中涉及的python知识\n",
    "\n",
    "\n",
    "\n",
    "* 1、collentions.defaultdict()\n",
    "* 2、字典中的 .get( key,default=False)\n",
    "* 3、两个list组合起来的方式\n",
    "* 4、list计数方式\n",
    "\n",
    "\n"
   ]
  },
  {
   "cell_type": "markdown",
   "metadata": {},
   "source": [
    "### 1、collentions.defaultdict()\n",
    "\n",
    "字典统计，字典中包含list值"
   ]
  },
  {
   "cell_type": "code",
   "execution_count": 7,
   "metadata": {},
   "outputs": [
    {
     "name": "stdout",
     "output_type": "stream",
     "text": [
      "0 3\n",
      "1 3\n",
      "2 3\n",
      "3 3\n",
      "4 3\n",
      "5 1\n",
      "6 3\n",
      "defaultdict(<class 'list'>, {3: [0, 1, 2, 3, 4, 6], 1: [5]})\n"
     ]
    }
   ],
   "source": [
    "import collections\n",
    "from collections import defaultdict\n",
    "groupSizes = [3,3,3,3,3,1,3]\n",
    "#group.index(3)\n",
    "groups = collections.defaultdict(list)\n",
    "for i, _id in enumerate(groupSizes):\n",
    "    print(i,_id)\n",
    "    groups[_id].append(i)\n",
    "\n",
    "print(groups)"
   ]
  },
  {
   "cell_type": "markdown",
   "metadata": {},
   "source": [
    "### 2、字典中的 .get( key,default=False)\n",
    "\n",
    "返回字典中key的值，没有该key这返回默认值default\n",
    "\n",
    "涉及的题目：1090"
   ]
  },
  {
   "cell_type": "code",
   "execution_count": 8,
   "metadata": {},
   "outputs": [
    {
     "data": {
      "text/plain": [
       "27"
      ]
     },
     "execution_count": 8,
     "metadata": {},
     "output_type": "execute_result"
    }
   ],
   "source": [
    "dict = {'Name': 'Zara', 'Age': 27}\n",
    "dict.get('Age')"
   ]
  },
  {
   "cell_type": "code",
   "execution_count": 6,
   "metadata": {},
   "outputs": [
    {
     "data": {
      "text/plain": [
       "0"
      ]
     },
     "execution_count": 6,
     "metadata": {},
     "output_type": "execute_result"
    }
   ],
   "source": [
    "dict.get('a',0)"
   ]
  },
  {
   "cell_type": "markdown",
   "metadata": {},
   "source": [
    "### 3、两个list组合起来的方式\n",
    "\n",
    "* zip(values,labels)\n",
    "组合排序的方式 nums=sortes(zip(values,labels),reverse = Treu)\n",
    "* together = [[values[i],labels[i]] for i in range(len(values))]\n",
    "\n",
    "\n",
    "涉及的题目："
   ]
  },
  {
   "cell_type": "markdown",
   "metadata": {},
   "source": [
    "### 4、list计数方式\n",
    "\n",
    "* 方式1 collection.Counter()\n",
    "* 方式2 遍历计数\n",
    "\n",
    "涉及题目：621、767\n",
    "\n",
    "* 方式3 遍历计数返回数组元组\n",
    " \n",
    "\n",
    "``` python\n",
    "for key in  tasks:\n",
    "    task[key] = task.get(key, 0) + 1\n",
    "```"
   ]
  },
  {
   "cell_type": "code",
   "execution_count": 20,
   "metadata": {},
   "outputs": [
    {
     "name": "stdout",
     "output_type": "stream",
     "text": [
      "Counter({'A': 3, 'B': 3, 'C': 1})\n"
     ]
    },
    {
     "data": {
      "text/plain": [
       "[('A', 3), ('B', 3)]"
      ]
     },
     "execution_count": 20,
     "metadata": {},
     "output_type": "execute_result"
    }
   ],
   "source": [
    "from collections  import Counter\n",
    "tasks = [\"A\",\"A\",\"A\",\"B\",\"B\",\"B\",\"C\"]\n",
    "\n",
    "result = Counter(tasks)\n",
    "print(result)\n",
    "\n",
    "## most_common排序\n",
    "result.most_common(1) ##返回最常见的前一个数据\n",
    "result.most_common(2) ##返回最常见的前3个数据"
   ]
  },
  {
   "cell_type": "code",
   "execution_count": 23,
   "metadata": {},
   "outputs": [
    {
     "name": "stdout",
     "output_type": "stream",
     "text": [
      "{'A': 3, 'B': 3}\n",
      "[('A', 3), ('B', 3)]\n"
     ]
    }
   ],
   "source": [
    "tasks = [\"A\",\"A\",\"A\",\"B\",\"B\",\"B\"]\n",
    "task ={}\n",
    "for key in  tasks:\n",
    "    task[key] = task.get(key, 0) + 1\n",
    "    \n",
    "print(task)\n",
    "\n",
    "##sort 排序\n",
    "task = sorted(task.items(),key = lambda item:item[1])\n",
    "print(task)"
   ]
  },
  {
   "cell_type": "code",
   "execution_count": 7,
   "metadata": {},
   "outputs": [
    {
     "name": "stdout",
     "output_type": "stream",
     "text": [
      "[(2, 'a'), (2, 'b'), (6, 'q')]\n",
      "[(2, 'a'), (2, 'b'), (6, 'q')]\n",
      "2 a\n",
      "2 b\n",
      "6 q\n"
     ]
    }
   ],
   "source": [
    "# 767.重构字符串\n",
    "S='bbaaqqqqqq'\n",
    "\n",
    "x=[(S.count(x), x) for x in set(S)]\n",
    "y=sorted(x)\n",
    "\n",
    "print(x)\n",
    "print(y)\n",
    "\n",
    "for c, d in sorted((S.count(x), x) for x in set(S)) : ## 计数\n",
    "    print(c,d)\n",
    "    \n"
   ]
  },
  {
   "cell_type": "markdown",
   "metadata": {},
   "source": [
    "### 4、交换list中不同位置的元素\n",
    "\n",
    "``` python\n",
    "A[i-1],A[j] = A[j],A[i-1]\n",
    "\n",
    "```"
   ]
  },
  {
   "cell_type": "code",
   "execution_count": 1,
   "metadata": {},
   "outputs": [
    {
     "data": {
      "text/plain": [
       "[2, 0, 0, 0, 0, 1]"
      ]
     },
     "execution_count": 1,
     "metadata": {},
     "output_type": "execute_result"
    }
   ],
   "source": [
    "A=[1,0,0,0,0,2]\n",
    "\n",
    "A[0],A[5] = A[5],A[0]\n",
    "A"
   ]
  },
  {
   "cell_type": "markdown",
   "metadata": {},
   "source": [
    "### 5、倒序输出\n"
   ]
  },
  {
   "cell_type": "code",
   "execution_count": 3,
   "metadata": {},
   "outputs": [
    {
     "name": "stdout",
     "output_type": "stream",
     "text": [
      "3\n",
      "2\n",
      "1\n"
     ]
    }
   ],
   "source": [
    "lenth=4\n",
    "for i in range(lenth-1, 0, -1):\n",
    "    print(i)"
   ]
  },
  {
   "cell_type": "markdown",
   "metadata": {},
   "source": [
    "### 6. list连接输出（concat）\n",
    "有点像sql中的concat()"
   ]
  },
  {
   "cell_type": "code",
   "execution_count": 7,
   "metadata": {},
   "outputs": [
    {
     "name": "stdout",
     "output_type": "stream",
     "text": [
      "12345\n",
      "1-2-3-4-5\n"
     ]
    }
   ],
   "source": [
    "digits=[1,2,3,4,5]\n",
    "## 连接符号为“”中的符号 \n",
    "print(\"\".join(map(str, digits)))\n",
    "print(\"-\".join(map(str, digits)))"
   ]
  },
  {
   "cell_type": "code",
   "execution_count": 8,
   "metadata": {},
   "outputs": [
    {
     "data": {
      "text/plain": [
       "[-2, 1, 1]"
      ]
     },
     "execution_count": 8,
     "metadata": {},
     "output_type": "execute_result"
    }
   ],
   "source": [
    "A=[2,3,4]\n",
    "nums=[A[i]-A[i-1] for i in range(len(A))]\n",
    "nums"
   ]
  },
  {
   "cell_type": "code",
   "execution_count": 25,
   "metadata": {},
   "outputs": [
    {
     "data": {
      "text/plain": [
       "1"
      ]
     },
     "execution_count": 25,
     "metadata": {},
     "output_type": "execute_result"
    }
   ],
   "source": [
    "1 and 1\n"
   ]
  },
  {
   "cell_type": "code",
   "execution_count": null,
   "metadata": {},
   "outputs": [],
   "source": []
  }
 ],
 "metadata": {
  "kernelspec": {
   "display_name": "py3",
   "language": "python",
   "name": "python36"
  },
  "language_info": {
   "codemirror_mode": {
    "name": "ipython",
    "version": 3
   },
   "file_extension": ".py",
   "mimetype": "text/x-python",
   "name": "python",
   "nbconvert_exporter": "python",
   "pygments_lexer": "ipython3",
   "version": "3.6.9"
  }
 },
 "nbformat": 4,
 "nbformat_minor": 2
}
