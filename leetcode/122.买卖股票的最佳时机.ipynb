{
 "cells": [
  {
   "cell_type": "markdown",
   "metadata": {},
   "source": [
    "#### 目录\n",
    "* 原题描述 \n",
    "* 第一遍解法 122.买卖股票的最佳时机\n",
    "* 网上解法\n",
    "* 优化自己的代码\n",
    "* 第二遍解法 \n",
    "\n",
    "#### 1. 问题描述\n",
    "**122.买卖股票的最佳时机**\n",
    "\n",
    "给定一个数组，它的第 i 个元素是一支给定股票第 i 天的价格。\n",
    "\n",
    "设计一个算法来计算你所能获取的最大利润。你可以尽可能地完成更多的交易（多次买卖一支股票）。\n",
    "\n",
    "注意：你不能同时参与多笔交易（你必须在再次购买前出售掉之前的股票）。\n",
    "\n",
    "* 示例 1:\n",
    "\n",
    ">输入: [7,1,5,3,6,4]     \n",
    "输出: 7      \n",
    "解释: 在第 2 天（股票价格 = 1）的时候买入，在第 3 天（股票价格 = 5）的时候卖出, 这笔交易所能获得利润 = 5-1 = 4 。  \n",
    "随后，在第 4 天（股票价格 = 3）的时候买入，在第 5 天（股票价格 = 6）的时候卖出, 这笔交易所能获得利润 = 6-3 = 3 。\n",
    "\n",
    "* 示例 2:\n",
    "\n",
    ">输入: [1,2,3,4,5]  \n",
    "输出: 4      \n",
    "解释: 在第 1 天（股票价格 = 1）的时候买入，在第 5 天 （股票价格 = 5）的时候卖出, 这笔交易所能获得利润 = 5-1 = 4 。  \n",
    "注意你不能在第 1 天和第 2 天接连购买股票，之后再将它们卖出。  \n",
    "因为这样属于同时参与了多笔交易，你必须在再次购买前出售掉之前的股票。\n",
    "\n",
    ">示例 3:  \n",
    "输入: [7,6,4,3,1]      \n",
    "输出: 0      \n",
    "解释: 在这种情况下, 没有交易完成, 所以最大利润为 0。\n",
    "\n",
    "\n",
    "#### 2、我的第一次解法 12.10\n",
    "\n",
    "**2.1 思路**\n",
    "\n",
    "* 第i+1个元素 与第i个元素的差值作为 第i个元素的值 生成新的list\n",
    "* 新list 正值相加\n",
    "* 有个问题 \n",
    "\n",
    "**2.2 代码尝试**"
   ]
  },
  {
   "cell_type": "code",
   "execution_count": null,
   "metadata": {},
   "outputs": [],
   "source": [
    "class Solution:\n",
    "    def maxProfit(self, prices: List[int]) -> int:\n",
    "        coin = 0\n",
    "        pri=[prices[i+1]-prices[i] for i in range(len(prices)-1)]\n",
    "        for i in pri:\n",
    "            if i > 0:\n",
    "                coin+=i\n",
    "        return(coin)\n",
    "    \n",
    "## 代码运行结果正确"
   ]
  },
  {
   "cell_type": "markdown",
   "metadata": {},
   "source": [
    "**2.3 正确代码解析**\n",
    "* 解法一 贪心算法\n",
    "\n",
    " 一次遍历，只要今天价格小于明天价格就在今天买入然后明天卖出，时间复杂度O(n)\n",
    " （我的想法耶，但是网上解法更加简便，不需要先算差值，可以先比较前后，后一天比前一天大就返回差值）\n",
    "``` python\n",
    "class Solution:\n",
    "    def maxProfit(self, prices: List[int]) -> int:\n",
    "        ans = 0\n",
    "        for i in range(1, len(prices)):\n",
    "            if prices[i] > prices[i-1]:\n",
    "                ans += prices[i] - prices[i-1]\n",
    "        return ans\n",
    "```\n",
    "\n",
    "* 解法二 DP动态规划 \n",
    "\n",
    "可以用贪心算法解决的问题，一般情况下都可以用动态规划\n",
    "\n",
    "这个代码对于现在的我有点难度 12／\n",
    "dp[i][j] 表示第i天的状态，j=0表示持有现金，卖出股票+prince[i] j=1表示持有股票 买入股票表示-prince[i]\n",
    "\n",
    "```python\n",
    "\n",
    "class Solution:\n",
    "    def maxProfit(self, prices: List[int]) -> int:\n",
    "        if not prices:\n",
    "            return 0\n",
    "        n = len(prices)\n",
    "        dp = [[0]*2 for _ in range(n)]\n",
    "        # dp[i][0]表示第i天不持有股票, dp[i][1]表示第i天持有股票\n",
    "        dp[0][0], dp[0][1] = 0, - prices[0]\n",
    "        for i in range(1, n):\n",
    "            dp[i][0] = max(dp[i-1][0], dp[i-1][1] + prices[i]) #\n",
    "            dp[i][1] = max(dp[i-1][1], dp[i-1][0] - prices[i]) # 今天买了股票 持有的💰 = max(前一天的股票没有卖，手里的💰，昨天手里没有股票 今天买入 手里的💰)\n",
    "        return dp[n-1][0]\n",
    "\n",
    "```\n",
    "\n",
    "我的理解，动态规划采取的是把每一步的可能假设出来，然后选择每一步中的最优解法，最后得到结果\n",
    "\n",
    "**2.4 我的代码改进**\n",
    "\n",
    "代码有冗余的部分，不需要先计算一次差值，可以直接判断然后满足条件的计算差值，参照正确解法1\n",
    "\n",
    "#### 3、相关知识讲解\n",
    "\n",
    "#### 需补充动态规划相关知识点"
   ]
  },
  {
   "cell_type": "code",
   "execution_count": 2,
   "metadata": {},
   "outputs": [
    {
     "name": "stdout",
     "output_type": "stream",
     "text": [
      "[[0, 0], [0, 0], [0, 0], [0, 0], [0, 0]]\n"
     ]
    }
   ],
   "source": [
    "dp = [[0]*2 for _ in range(5)]\n",
    "print(dp)"
   ]
  },
  {
   "cell_type": "code",
   "execution_count": null,
   "metadata": {},
   "outputs": [],
   "source": []
  }
 ],
 "metadata": {
  "kernelspec": {
   "display_name": "py3",
   "language": "python",
   "name": "python36"
  },
  "language_info": {
   "codemirror_mode": {
    "name": "ipython",
    "version": 3
   },
   "file_extension": ".py",
   "mimetype": "text/x-python",
   "name": "python",
   "nbconvert_exporter": "python",
   "pygments_lexer": "ipython3",
   "version": "3.6.9"
  }
 },
 "nbformat": 4,
 "nbformat_minor": 2
}
